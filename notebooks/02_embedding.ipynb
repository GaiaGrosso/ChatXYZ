{
 "cells": [
  {
   "cell_type": "code",
   "execution_count": 1,
   "id": "73de4e83-3a20-4fdf-8a17-6720982f5f55",
   "metadata": {},
   "outputs": [],
   "source": [
    "import pandas as pd\n",
    "import numpy as np\n",
    "from tqdm import tqdm\n",
    "\n",
    "import openai"
   ]
  },
  {
   "cell_type": "code",
   "execution_count": 3,
   "id": "e4fb3b09-4a61-43b1-936d-7c5f190d9c84",
   "metadata": {},
   "outputs": [],
   "source": [
    "openai.api_key = \"\""
   ]
  },
  {
   "cell_type": "code",
   "execution_count": 4,
   "id": "eabd64f6-4fae-451b-b328-0ada7fe16232",
   "metadata": {},
   "outputs": [],
   "source": [
    "def sliding_window(text, window_size, stride):\n",
    "    tokens = text.split()\n",
    "    window_start = 0\n",
    "    while window_start < len(tokens):\n",
    "        window_end = min(window_start + window_size, len(tokens))\n",
    "        yield ' '.join(tokens[window_start:window_end])\n",
    "        window_start += stride\n",
    "        \n",
    "def get_embedding(text, model=\"text-embedding-ada-002\"):\n",
    "    text = text.replace(\"\\n\", \" \")\n",
    "    return openai.Embedding.create(input = [text], model=model)['data'][0]['embedding']\n"
   ]
  },
  {
   "cell_type": "code",
   "execution_count": 5,
   "id": "a9f01b5f-c649-42f3-95ce-a2ffeea7e256",
   "metadata": {},
   "outputs": [
    {
     "data": {
      "text/html": [
       "<div>\n",
       "<style scoped>\n",
       "    .dataframe tbody tr th:only-of-type {\n",
       "        vertical-align: middle;\n",
       "    }\n",
       "\n",
       "    .dataframe tbody tr th {\n",
       "        vertical-align: top;\n",
       "    }\n",
       "\n",
       "    .dataframe thead th {\n",
       "        text-align: right;\n",
       "    }\n",
       "</style>\n",
       "<table border=\"1\" class=\"dataframe\">\n",
       "  <thead>\n",
       "    <tr style=\"text-align: right;\">\n",
       "      <th></th>\n",
       "      <th>source_type</th>\n",
       "      <th>text</th>\n",
       "    </tr>\n",
       "  </thead>\n",
       "  <tbody>\n",
       "    <tr>\n",
       "      <th>0</th>\n",
       "      <td>paper</td>\n",
       "      <td>%\\RequirePackage{lineno}\\n\\documentclass[aps,p...</td>\n",
       "    </tr>\n",
       "    <tr>\n",
       "      <th>1</th>\n",
       "      <td>paper</td>\n",
       "      <td>\\documentclass[aps,prd,floatfix,preprintnumber...</td>\n",
       "    </tr>\n",
       "    <tr>\n",
       "      <th>2</th>\n",
       "      <td>paper</td>\n",
       "      <td>\\documentclass[letterpaper,11pt]{article}\\n\\pd...</td>\n",
       "    </tr>\n",
       "    <tr>\n",
       "      <th>3</th>\n",
       "      <td>paper</td>\n",
       "      <td>\\documentclass[11pt,letterpaper]{article}\\n\\pd...</td>\n",
       "    </tr>\n",
       "    <tr>\n",
       "      <th>4</th>\n",
       "      <td>paper</td>\n",
       "      <td>\\documentclass[aps,twocolumn,nofootinbib,super...</td>\n",
       "    </tr>\n",
       "  </tbody>\n",
       "</table>\n",
       "</div>"
      ],
      "text/plain": [
       "  source_type                                               text\n",
       "0       paper  %\\RequirePackage{lineno}\\n\\documentclass[aps,p...\n",
       "1       paper  \\documentclass[aps,prd,floatfix,preprintnumber...\n",
       "2       paper  \\documentclass[letterpaper,11pt]{article}\\n\\pd...\n",
       "3       paper  \\documentclass[11pt,letterpaper]{article}\\n\\pd...\n",
       "4       paper  \\documentclass[aps,twocolumn,nofootinbib,super..."
      ]
     },
     "execution_count": 5,
     "metadata": {},
     "output_type": "execute_result"
    }
   ],
   "source": [
    "df = pd.read_csv(\"../data/text/df_text.csv\")\n",
    "df.head()"
   ]
  },
  {
   "cell_type": "code",
   "execution_count": 5,
   "id": "e694393c-a092-4295-88f9-0ad52b3db846",
   "metadata": {},
   "outputs": [],
   "source": [
    "df_filtered = df[~df['source_location'].str.contains('hep')].sort_values(by=['source_location'])"
   ]
  },
  {
   "cell_type": "code",
   "execution_count": 6,
   "id": "ba1024b4-ed48-437e-b569-b10af0809d04",
   "metadata": {},
   "outputs": [
    {
     "data": {
      "text/html": [
       "<div>\n",
       "<style scoped>\n",
       "    .dataframe tbody tr th:only-of-type {\n",
       "        vertical-align: middle;\n",
       "    }\n",
       "\n",
       "    .dataframe tbody tr th {\n",
       "        vertical-align: top;\n",
       "    }\n",
       "\n",
       "    .dataframe thead th {\n",
       "        text-align: right;\n",
       "    }\n",
       "</style>\n",
       "<table border=\"1\" class=\"dataframe\">\n",
       "  <thead>\n",
       "    <tr style=\"text-align: right;\">\n",
       "      <th></th>\n",
       "      <th>source_type</th>\n",
       "      <th>source_location</th>\n",
       "      <th>text</th>\n",
       "    </tr>\n",
       "  </thead>\n",
       "  <tbody>\n",
       "    <tr>\n",
       "      <th>22</th>\n",
       "      <td>paper</td>\n",
       "      <td>https://arxiv.org/abs/1908.08542.pdf</td>\n",
       "      <td>MIT-CTP 5129\\nExploring the Space of Jets with...</td>\n",
       "    </tr>\n",
       "    <tr>\n",
       "      <th>37</th>\n",
       "      <td>paper</td>\n",
       "      <td>https://arxiv.org/abs/1908.08949.pdf</td>\n",
       "      <td>MIT-CTP 5137\\nQuantum Algorithms for Jet Clust...</td>\n",
       "    </tr>\n",
       "    <tr>\n",
       "      <th>125</th>\n",
       "      <td>paper</td>\n",
       "      <td>https://arxiv.org/abs/1909.00009.pdf</td>\n",
       "      <td>MIT{CTP 5143\\nCircumnavigating Collinear Super...</td>\n",
       "    </tr>\n",
       "    <tr>\n",
       "      <th>18</th>\n",
       "      <td>paper</td>\n",
       "      <td>https://arxiv.org/abs/1911.04491.pdf</td>\n",
       "      <td>MIT-CTP 5150\\nCutting Multiparticle Correlator...</td>\n",
       "    </tr>\n",
       "    <tr>\n",
       "      <th>74</th>\n",
       "      <td>paper</td>\n",
       "      <td>https://arxiv.org/abs/1911.09107.pdf</td>\n",
       "      <td>MIT-CTP 5155\\nOmniFold: A Method to Simultaneo...</td>\n",
       "    </tr>\n",
       "  </tbody>\n",
       "</table>\n",
       "</div>"
      ],
      "text/plain": [
       "    source_type                       source_location  \\\n",
       "22        paper  https://arxiv.org/abs/1908.08542.pdf   \n",
       "37        paper  https://arxiv.org/abs/1908.08949.pdf   \n",
       "125       paper  https://arxiv.org/abs/1909.00009.pdf   \n",
       "18        paper  https://arxiv.org/abs/1911.04491.pdf   \n",
       "74        paper  https://arxiv.org/abs/1911.09107.pdf   \n",
       "\n",
       "                                                  text  \n",
       "22   MIT-CTP 5129\\nExploring the Space of Jets with...  \n",
       "37   MIT-CTP 5137\\nQuantum Algorithms for Jet Clust...  \n",
       "125  MIT{CTP 5143\\nCircumnavigating Collinear Super...  \n",
       "18   MIT-CTP 5150\\nCutting Multiparticle Correlator...  \n",
       "74   MIT-CTP 5155\\nOmniFold: A Method to Simultaneo...  "
      ]
     },
     "execution_count": 6,
     "metadata": {},
     "output_type": "execute_result"
    }
   ],
   "source": [
    "last = 35\n",
    "df_filtered[-last:].head()"
   ]
  },
  {
   "cell_type": "code",
   "execution_count": 7,
   "id": "74f91592-8e1e-499c-be1b-2587cbae7409",
   "metadata": {},
   "outputs": [
    {
     "name": "stderr",
     "output_type": "stream",
     "text": [
      "100%|████████████████████████████████████████████████████████| 35/35 [02:38<00:00,  4.52s/it]\n"
     ]
    }
   ],
   "source": [
    "window_size = 256\n",
    "stride = 128\n",
    "\n",
    "text_chunks = []\n",
    "embeddings = []\n",
    "\n",
    "for i in tqdm(range(len(df_filtered[-last:]))):\n",
    "    text = df_filtered[-last:]['text'].values[i].replace('\\n', ' ').strip()\n",
    "    text_chunks_i = list(sliding_window(text, window_size, stride))\n",
    "    embeddings_i = [get_embedding(text) for text in text_chunks_i]\n",
    "    text_chunks += text_chunks_i\n",
    "    embeddings += embeddings_i"
   ]
  },
  {
   "cell_type": "code",
   "execution_count": 187,
   "id": "0bce225c-279e-42b8-8069-36c5ea7a2df4",
   "metadata": {},
   "outputs": [],
   "source": [
    "embeddings = np.array(embeddings, dtype=np.float64)"
   ]
  },
  {
   "cell_type": "code",
   "execution_count": 189,
   "id": "703fc623-cf26-4ae6-a261-06e58cf4c555",
   "metadata": {},
   "outputs": [],
   "source": [
    "data = [text_chunks, embeddings]\n",
    "\n",
    "# Transpose the data to have the inner lists as rows\n",
    "transposed_data = list(map(list, zip(*data)))\n",
    "\n",
    "# Column names for the DataFrame\n",
    "columns = ['text_chunks', 'embeddings']\n",
    "\n",
    "# Create the DataFrame\n",
    "df = pd.DataFrame(transposed_data, columns=columns)"
   ]
  },
  {
   "cell_type": "code",
   "execution_count": 190,
   "id": "f0d5a766-5a18-44b4-a9a6-1f5ef0b77d64",
   "metadata": {},
   "outputs": [],
   "source": [
    "df.to_csv('../data/embeddings/text_chunks.csv', index=False)"
   ]
  },
  {
   "cell_type": "code",
   "execution_count": 192,
   "id": "2fd905c1-4bf7-42f9-b7b4-54379cacf3d2",
   "metadata": {},
   "outputs": [],
   "source": [
    "np.save('../data/embeddings/embeddings.npy', embeddings)"
   ]
  },
  {
   "cell_type": "code",
   "execution_count": null,
   "id": "aecd9d88-6c87-41b8-847d-6756a301ce3a",
   "metadata": {},
   "outputs": [],
   "source": []
  }
 ],
 "metadata": {
  "kernelspec": {
   "display_name": "Python 3 (ipykernel)",
   "language": "python",
   "name": "python3"
  },
  "language_info": {
   "codemirror_mode": {
    "name": "ipython",
    "version": 3
   },
   "file_extension": ".py",
   "mimetype": "text/x-python",
   "name": "python",
   "nbconvert_exporter": "python",
   "pygments_lexer": "ipython3",
   "version": "3.9.13"
  }
 },
 "nbformat": 4,
 "nbformat_minor": 5
}
