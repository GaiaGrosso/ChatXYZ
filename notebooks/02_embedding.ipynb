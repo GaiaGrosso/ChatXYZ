{
 "cells": [
  {
   "cell_type": "code",
   "execution_count": null,
   "id": "73de4e83-3a20-4fdf-8a17-6720982f5f55",
   "metadata": {},
   "outputs": [],
   "source": [
    "import sys\n",
    "sys.path.append('../')\n",
    "import pandas as pd\n",
    "import numpy as np\n",
    "from tqdm import tqdm\n",
    "from tenacity import retry, stop_after_attempt, wait_random_exponential\n",
    "import os\n",
    "\n",
    "import openai\n",
    "\n",
    "from utils.embedding_utils import get_embedding, sliding_window"
   ]
  },
  {
   "cell_type": "code",
   "execution_count": null,
   "id": "a9f01b5f-c649-42f3-95ce-a2ffeea7e256",
   "metadata": {},
   "outputs": [],
   "source": [
    "victim = \"Oppie\"\n",
    "\n",
    "df = pd.read_csv(f\"../data/{victim}/db/df_text.csv\")\n",
    "df.head()"
   ]
  },
  {
   "cell_type": "code",
   "execution_count": null,
   "id": "e694393c-a092-4295-88f9-0ad52b3db846",
   "metadata": {},
   "outputs": [],
   "source": [
    "df_filtered = df"
   ]
  },
  {
   "cell_type": "code",
   "execution_count": 8,
   "id": "74f91592-8e1e-499c-be1b-2587cbae7409",
   "metadata": {},
   "outputs": [
    {
     "name": "stderr",
     "output_type": "stream",
     "text": [
      "  0%|          | 0/1 [00:06<?, ?it/s]\n"
     ]
    },
    {
     "ename": "KeyboardInterrupt",
     "evalue": "",
     "output_type": "error",
     "traceback": [
      "\u001b[0;31m---------------------------------------------------------------------------\u001b[0m",
      "\u001b[0;31mKeyboardInterrupt\u001b[0m                         Traceback (most recent call last)",
      "\u001b[1;32m/home/rikab/Documents/Projects/ChatXYZ/ChatXYZ/notebooks/02_embedding.ipynb Cell 4\u001b[0m line \u001b[0;36m1\n\u001b[1;32m     <a href='vscode-notebook-cell:/home/rikab/Documents/Projects/ChatXYZ/ChatXYZ/notebooks/02_embedding.ipynb#W3sZmlsZQ%3D%3D?line=9'>10</a>\u001b[0m \u001b[39mif\u001b[39;00m \u001b[39mlen\u001b[39m(text_chunks_i) \u001b[39m>\u001b[39m \u001b[39m80\u001b[39m:  \u001b[39m# If text too long, truncate\u001b[39;00m\n\u001b[1;32m     <a href='vscode-notebook-cell:/home/rikab/Documents/Projects/ChatXYZ/ChatXYZ/notebooks/02_embedding.ipynb#W3sZmlsZQ%3D%3D?line=10'>11</a>\u001b[0m     text_chunks_i \u001b[39m=\u001b[39m text_chunks_i[:\u001b[39m80\u001b[39m]\n\u001b[0;32m---> <a href='vscode-notebook-cell:/home/rikab/Documents/Projects/ChatXYZ/ChatXYZ/notebooks/02_embedding.ipynb#W3sZmlsZQ%3D%3D?line=11'>12</a>\u001b[0m embeddings_i \u001b[39m=\u001b[39m [get_embedding(text) \u001b[39mfor\u001b[39;00m text \u001b[39min\u001b[39;00m text_chunks_i]\n\u001b[1;32m     <a href='vscode-notebook-cell:/home/rikab/Documents/Projects/ChatXYZ/ChatXYZ/notebooks/02_embedding.ipynb#W3sZmlsZQ%3D%3D?line=12'>13</a>\u001b[0m text_chunks \u001b[39m+\u001b[39m\u001b[39m=\u001b[39m text_chunks_i\n\u001b[1;32m     <a href='vscode-notebook-cell:/home/rikab/Documents/Projects/ChatXYZ/ChatXYZ/notebooks/02_embedding.ipynb#W3sZmlsZQ%3D%3D?line=13'>14</a>\u001b[0m embeddings \u001b[39m+\u001b[39m\u001b[39m=\u001b[39m embeddings_i\n",
      "\u001b[1;32m/home/rikab/Documents/Projects/ChatXYZ/ChatXYZ/notebooks/02_embedding.ipynb Cell 4\u001b[0m line \u001b[0;36m1\n\u001b[1;32m     <a href='vscode-notebook-cell:/home/rikab/Documents/Projects/ChatXYZ/ChatXYZ/notebooks/02_embedding.ipynb#W3sZmlsZQ%3D%3D?line=9'>10</a>\u001b[0m \u001b[39mif\u001b[39;00m \u001b[39mlen\u001b[39m(text_chunks_i) \u001b[39m>\u001b[39m \u001b[39m80\u001b[39m:  \u001b[39m# If text too long, truncate\u001b[39;00m\n\u001b[1;32m     <a href='vscode-notebook-cell:/home/rikab/Documents/Projects/ChatXYZ/ChatXYZ/notebooks/02_embedding.ipynb#W3sZmlsZQ%3D%3D?line=10'>11</a>\u001b[0m     text_chunks_i \u001b[39m=\u001b[39m text_chunks_i[:\u001b[39m80\u001b[39m]\n\u001b[0;32m---> <a href='vscode-notebook-cell:/home/rikab/Documents/Projects/ChatXYZ/ChatXYZ/notebooks/02_embedding.ipynb#W3sZmlsZQ%3D%3D?line=11'>12</a>\u001b[0m embeddings_i \u001b[39m=\u001b[39m [get_embedding(text) \u001b[39mfor\u001b[39;00m text \u001b[39min\u001b[39;00m text_chunks_i]\n\u001b[1;32m     <a href='vscode-notebook-cell:/home/rikab/Documents/Projects/ChatXYZ/ChatXYZ/notebooks/02_embedding.ipynb#W3sZmlsZQ%3D%3D?line=12'>13</a>\u001b[0m text_chunks \u001b[39m+\u001b[39m\u001b[39m=\u001b[39m text_chunks_i\n\u001b[1;32m     <a href='vscode-notebook-cell:/home/rikab/Documents/Projects/ChatXYZ/ChatXYZ/notebooks/02_embedding.ipynb#W3sZmlsZQ%3D%3D?line=13'>14</a>\u001b[0m embeddings \u001b[39m+\u001b[39m\u001b[39m=\u001b[39m embeddings_i\n",
      "File \u001b[0;32m~/Documents/Projects/ChatXYZ/ChatXYZ/notebooks/../utils/embedding_utils.py:31\u001b[0m, in \u001b[0;36mget_embedding\u001b[0;34m(text, model, api_key)\u001b[0m\n\u001b[1;32m     29\u001b[0m     openai\u001b[39m.\u001b[39mapi_key \u001b[39m=\u001b[39m api_key\n\u001b[1;32m     30\u001b[0m text \u001b[39m=\u001b[39m text\u001b[39m.\u001b[39mreplace(\u001b[39m\"\u001b[39m\u001b[39m\\n\u001b[39;00m\u001b[39m\"\u001b[39m, \u001b[39m\"\u001b[39m\u001b[39m \u001b[39m\u001b[39m\"\u001b[39m)\n\u001b[0;32m---> 31\u001b[0m \u001b[39mreturn\u001b[39;00m embedding_with_backoff(\u001b[39minput\u001b[39;49m\u001b[39m=\u001b[39;49m[text], model\u001b[39m=\u001b[39;49mmodel)[\u001b[39m\"\u001b[39m\u001b[39mdata\u001b[39m\u001b[39m\"\u001b[39m][\u001b[39m0\u001b[39m][\u001b[39m\"\u001b[39m\u001b[39membedding\u001b[39m\u001b[39m\"\u001b[39m]\n",
      "File \u001b[0;32m~/miniconda3/lib/python3.8/site-packages/tenacity/__init__.py:289\u001b[0m, in \u001b[0;36mBaseRetrying.wraps.<locals>.wrapped_f\u001b[0;34m(*args, **kw)\u001b[0m\n\u001b[1;32m    287\u001b[0m \u001b[39m@functools\u001b[39m\u001b[39m.\u001b[39mwraps(f)\n\u001b[1;32m    288\u001b[0m \u001b[39mdef\u001b[39;00m \u001b[39mwrapped_f\u001b[39m(\u001b[39m*\u001b[39margs: t\u001b[39m.\u001b[39mAny, \u001b[39m*\u001b[39m\u001b[39m*\u001b[39mkw: t\u001b[39m.\u001b[39mAny) \u001b[39m-\u001b[39m\u001b[39m>\u001b[39m t\u001b[39m.\u001b[39mAny:\n\u001b[0;32m--> 289\u001b[0m     \u001b[39mreturn\u001b[39;00m \u001b[39mself\u001b[39;49m(f, \u001b[39m*\u001b[39;49margs, \u001b[39m*\u001b[39;49m\u001b[39m*\u001b[39;49mkw)\n",
      "File \u001b[0;32m~/miniconda3/lib/python3.8/site-packages/tenacity/__init__.py:389\u001b[0m, in \u001b[0;36mRetrying.__call__\u001b[0;34m(self, fn, *args, **kwargs)\u001b[0m\n\u001b[1;32m    387\u001b[0m \u001b[39melif\u001b[39;00m \u001b[39misinstance\u001b[39m(do, DoSleep):\n\u001b[1;32m    388\u001b[0m     retry_state\u001b[39m.\u001b[39mprepare_for_next_attempt()\n\u001b[0;32m--> 389\u001b[0m     \u001b[39mself\u001b[39;49m\u001b[39m.\u001b[39;49msleep(do)\n\u001b[1;32m    390\u001b[0m \u001b[39melse\u001b[39;00m:\n\u001b[1;32m    391\u001b[0m     \u001b[39mreturn\u001b[39;00m do\n",
      "File \u001b[0;32m~/miniconda3/lib/python3.8/site-packages/tenacity/nap.py:31\u001b[0m, in \u001b[0;36msleep\u001b[0;34m(seconds)\u001b[0m\n\u001b[1;32m     25\u001b[0m \u001b[39mdef\u001b[39;00m \u001b[39msleep\u001b[39m(seconds: \u001b[39mfloat\u001b[39m) \u001b[39m-\u001b[39m\u001b[39m>\u001b[39m \u001b[39mNone\u001b[39;00m:\n\u001b[1;32m     26\u001b[0m \u001b[39m    \u001b[39m\u001b[39m\"\"\"\u001b[39;00m\n\u001b[1;32m     27\u001b[0m \u001b[39m    Sleep strategy that delays execution for a given number of seconds.\u001b[39;00m\n\u001b[1;32m     28\u001b[0m \n\u001b[1;32m     29\u001b[0m \u001b[39m    This is the default strategy, and may be mocked out for unit testing.\u001b[39;00m\n\u001b[1;32m     30\u001b[0m \u001b[39m    \"\"\"\u001b[39;00m\n\u001b[0;32m---> 31\u001b[0m     time\u001b[39m.\u001b[39;49msleep(seconds)\n",
      "\u001b[0;31mKeyboardInterrupt\u001b[0m: "
     ]
    }
   ],
   "source": [
    "window_size = 256  # Length of text chunks\n",
    "stride = 192 # Stride of sliding window; have a bit of overlap\n",
    "\n",
    "text_chunks = []\n",
    "embeddings = []\n",
    "\n",
    "for i in tqdm(range(len(df_filtered))):\n",
    "    text = df_filtered['text'].values[i].replace('\\n', ' ').strip()\n",
    "    text_chunks_i = list(sliding_window(text, window_size, stride))\n",
    "    if len(text_chunks_i) > 80:  # If text too long, truncate\n",
    "        text_chunks_i = text_chunks_i[:80]\n",
    "    embeddings_i = [get_embedding(text) for text in text_chunks_i]\n",
    "    text_chunks += text_chunks_i\n",
    "    embeddings += embeddings_i"
   ]
  },
  {
   "cell_type": "code",
   "execution_count": null,
   "id": "0bce225c-279e-42b8-8069-36c5ea7a2df4",
   "metadata": {},
   "outputs": [],
   "source": [
    "embeddings = np.array(embeddings, dtype=np.float64)"
   ]
  },
  {
   "cell_type": "code",
   "execution_count": null,
   "id": "703fc623-cf26-4ae6-a261-06e58cf4c555",
   "metadata": {},
   "outputs": [],
   "source": [
    "data = [text_chunks]\n",
    "\n",
    "# Transpose the data to have the inner lists as rows\n",
    "transposed_data = list(map(list, zip(*data)))\n",
    "\n",
    "# Column names for the DataFrame\n",
    "columns = ['text_chunks']\n",
    "\n",
    "# Create the DataFrame\n",
    "df = pd.DataFrame(transposed_data, columns=columns)"
   ]
  },
  {
   "cell_type": "code",
   "execution_count": null,
   "id": "f0d5a766-5a18-44b4-a9a6-1f5ef0b77d64",
   "metadata": {},
   "outputs": [],
   "source": [
    "df.to_csv(f'../data/{victim}/db/text_chunks.csv', index=False)\n",
    "np.save(f'../data/{victim}/db/embeddings.npy', embeddings)"
   ]
  },
  {
   "cell_type": "code",
   "execution_count": null,
   "id": "92c5b17b-7cbe-434d-aa23-6fc3b62c6cb1",
   "metadata": {},
   "outputs": [],
   "source": [
    "from sklearn.metrics.pairwise import cosine_similarity\n",
    "from utils.embedding_utils import get_embedding\n",
    "\n",
    "def semantic_search(query_embedding, embeddings):\n",
    "    \"\"\"Load context prompt.\"\"\"\n",
    "    similarities = cosine_similarity([query_embedding], embeddings)[0]\n",
    "    ranked_indices = np.argsort(-similarities)\n",
    "    return ranked_indices"
   ]
  },
  {
   "cell_type": "code",
   "execution_count": null,
   "id": "fd6c4863-510a-4e3c-9864-77aacea79be5",
   "metadata": {},
   "outputs": [],
   "source": [
    "emb = get_embedding(\"Tell me about the pion\")\n",
    "semantic_search(emb, embeddings)"
   ]
  },
  {
   "cell_type": "code",
   "execution_count": null,
   "id": "a9c8057a-d048-445e-b969-896e0c0508d6",
   "metadata": {},
   "outputs": [],
   "source": [
    "text_chunks[semantic_search(emb, embeddings)[0]]"
   ]
  },
  {
   "cell_type": "code",
   "execution_count": null,
   "id": "6a777db7-78a8-4f31-a2ce-cecf1faa43d5",
   "metadata": {},
   "outputs": [],
   "source": []
  }
 ],
 "metadata": {
  "kernelspec": {
   "display_name": "Python 3 (ipykernel)",
   "language": "python",
   "name": "python3"
  },
  "language_info": {
   "codemirror_mode": {
    "name": "ipython",
    "version": 3
   },
   "file_extension": ".py",
   "mimetype": "text/x-python",
   "name": "python",
   "nbconvert_exporter": "python",
   "pygments_lexer": "ipython3",
   "version": "3.8.16"
  }
 },
 "nbformat": 4,
 "nbformat_minor": 5
}
