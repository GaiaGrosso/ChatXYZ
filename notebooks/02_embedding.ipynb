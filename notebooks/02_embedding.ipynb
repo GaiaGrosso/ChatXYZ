{
 "cells": [
  {
   "cell_type": "code",
   "execution_count": 21,
   "id": "73de4e83-3a20-4fdf-8a17-6720982f5f55",
   "metadata": {},
   "outputs": [],
   "source": [
    "import sys\n",
    "sys.path.append('../')\n",
    "import pandas as pd\n",
    "import numpy as np\n",
    "from tqdm import tqdm\n",
    "from tenacity import retry, stop_after_attempt, wait_random_exponential\n",
    "import os\n",
    "\n",
    "import openai\n",
    "\n",
    "from utils.embedding_utils import get_embedding, sliding_window"
   ]
  },
  {
   "cell_type": "code",
   "execution_count": 133,
   "id": "a9f01b5f-c649-42f3-95ce-a2ffeea7e256",
   "metadata": {},
   "outputs": [
    {
     "data": {
      "text/html": [
       "<div>\n",
       "<style scoped>\n",
       "    .dataframe tbody tr th:only-of-type {\n",
       "        vertical-align: middle;\n",
       "    }\n",
       "\n",
       "    .dataframe tbody tr th {\n",
       "        vertical-align: top;\n",
       "    }\n",
       "\n",
       "    .dataframe thead th {\n",
       "        text-align: right;\n",
       "    }\n",
       "</style>\n",
       "<table border=\"1\" class=\"dataframe\">\n",
       "  <thead>\n",
       "    <tr style=\"text-align: right;\">\n",
       "      <th></th>\n",
       "      <th>source_type</th>\n",
       "      <th>text</th>\n",
       "    </tr>\n",
       "  </thead>\n",
       "  <tbody>\n",
       "    <tr>\n",
       "      <th>0</th>\n",
       "      <td>paper</td>\n",
       "      <td>\\begin{document}\\n\\n\\preprint{MIT-CTP 5315}\\n\\...</td>\n",
       "    </tr>\n",
       "    <tr>\n",
       "      <th>1</th>\n",
       "      <td>paper</td>\n",
       "      <td>% ============================================...</td>\n",
       "    </tr>\n",
       "    <tr>\n",
       "      <th>2</th>\n",
       "      <td>paper</td>\n",
       "      <td>\\begin{document}\\n\\n%\\preprint{}\\n\\n\\title{Pre...</td>\n",
       "    </tr>\n",
       "    <tr>\n",
       "      <th>3</th>\n",
       "      <td>paper</td>\n",
       "      <td>Once detector data has been processed and high...</td>\n",
       "    </tr>\n",
       "    <tr>\n",
       "      <th>4</th>\n",
       "      <td>paper</td>\n",
       "      <td>\\begin{document}\\n\\preprint{MIT--CTP 5223}\\n\\n...</td>\n",
       "    </tr>\n",
       "  </tbody>\n",
       "</table>\n",
       "</div>"
      ],
      "text/plain": [
       "  source_type                                               text\n",
       "0       paper  \\begin{document}\\n\\n\\preprint{MIT-CTP 5315}\\n\\...\n",
       "1       paper  % ============================================...\n",
       "2       paper  \\begin{document}\\n\\n%\\preprint{}\\n\\n\\title{Pre...\n",
       "3       paper  Once detector data has been processed and high...\n",
       "4       paper  \\begin{document}\\n\\preprint{MIT--CTP 5223}\\n\\n..."
      ]
     },
     "execution_count": 133,
     "metadata": {},
     "output_type": "execute_result"
    }
   ],
   "source": [
    "df = pd.read_csv(\"../data/db/df_text.csv\")\n",
    "df.head()"
   ]
  },
  {
   "cell_type": "code",
   "execution_count": 134,
   "id": "e694393c-a092-4295-88f9-0ad52b3db846",
   "metadata": {},
   "outputs": [],
   "source": [
    "df_filtered = df"
   ]
  },
  {
   "cell_type": "code",
   "execution_count": 10,
   "id": "74f91592-8e1e-499c-be1b-2587cbae7409",
   "metadata": {},
   "outputs": [
    {
     "name": "stderr",
     "output_type": "stream",
     "text": [
      "100%|████████████████████████████████████████████████████████| 65/65 [12:07<00:00, 11.20s/it]\n"
     ]
    }
   ],
   "source": [
    "window_size = 256\n",
    "stride = 192\n",
    "\n",
    "text_chunks = []\n",
    "embeddings = []\n",
    "\n",
    "for i in tqdm(range(len(df_filtered))):\n",
    "    text = df_filtered['text'].values[i].replace('\\n', ' ').strip()\n",
    "    text_chunks_i = list(sliding_window(text, window_size, stride))\n",
    "    if len(text_chunks_i) > 80:\n",
    "        text_chunks_i = text_chunks_i[:80]\n",
    "    embeddings_i = [get_embedding(text) for text in text_chunks_i]\n",
    "    text_chunks += text_chunks_i\n",
    "    embeddings += embeddings_i"
   ]
  },
  {
   "cell_type": "code",
   "execution_count": 11,
   "id": "0bce225c-279e-42b8-8069-36c5ea7a2df4",
   "metadata": {},
   "outputs": [],
   "source": [
    "embeddings = np.array(embeddings, dtype=np.float64)"
   ]
  },
  {
   "cell_type": "code",
   "execution_count": 64,
   "id": "703fc623-cf26-4ae6-a261-06e58cf4c555",
   "metadata": {},
   "outputs": [],
   "source": [
    "data = [text_chunks]\n",
    "\n",
    "# Transpose the data to have the inner lists as rows\n",
    "transposed_data = list(map(list, zip(*data)))\n",
    "\n",
    "# Column names for the DataFrame\n",
    "columns = ['text_chunks']\n",
    "\n",
    "# Create the DataFrame\n",
    "df = pd.DataFrame(transposed_data, columns=columns)"
   ]
  },
  {
   "cell_type": "code",
   "execution_count": 65,
   "id": "f0d5a766-5a18-44b4-a9a6-1f5ef0b77d64",
   "metadata": {},
   "outputs": [],
   "source": [
    "df.to_csv('../data/db/text_chunks.csv', index=False)\n",
    "np.save('../data/db/embeddings.npy', embeddings)"
   ]
  },
  {
   "cell_type": "code",
   "execution_count": 130,
   "id": "92c5b17b-7cbe-434d-aa23-6fc3b62c6cb1",
   "metadata": {},
   "outputs": [],
   "source": [
    "from sklearn.metrics.pairwise import cosine_similarity\n",
    "from utils.embedding_utils import get_embedding\n",
    "\n",
    "def semantic_search(query_embedding, embeddings):\n",
    "    \"\"\"Load context prompt.\"\"\"\n",
    "    similarities = cosine_similarity([query_embedding], embeddings)[0]\n",
    "    ranked_indices = np.argsort(-similarities)\n",
    "    return ranked_indices"
   ]
  },
  {
   "cell_type": "code",
   "execution_count": 195,
   "id": "fd6c4863-510a-4e3c-9864-77aacea79be5",
   "metadata": {},
   "outputs": [
    {
     "data": {
      "text/plain": [
       "array([2751, 2737, 2705, ...,  110, 1660, 1651])"
      ]
     },
     "execution_count": 195,
     "metadata": {},
     "output_type": "execute_result"
    }
   ],
   "source": [
    "emb = get_embedding(\"have you collaborated with rikab gambhir?\")\n",
    "semantic_search(emb, embeddings)"
   ]
  },
  {
   "cell_type": "code",
   "execution_count": 196,
   "id": "a9c8057a-d048-445e-b969-896e0c0508d6",
   "metadata": {},
   "outputs": [
    {
     "data": {
      "text/plain": [
       "'Fall 2019 Before MIT Teaching Fellow, Widely Applied Physics (Nima Arkani-Hamed), Harvard University, Fall 2005 Teaching Assistant, Linear Algebra (Thomas Banchoff), Brown University, Spring 2001 Math/Physics Tutor, Brown University, 1999 - 2000 Classroom Assistant, Algebra I and II, Textron/Chamber of Commerce Charter High School, Providence, RI, Fall 1999 Publications & Preprints Publications by Topic Inspire arXiv ORCID Google Scholar 2023 SHAPER: Can You Hear the Shape of a Jet? . Demba Ba, Akshunna S. Dogra, Rikab Gambhir, Abiy Tasissa, and Jesse Thaler. arXiv:2302.12266 . EPiC-GAN: Equivariant Point Cloud Generation for Particle Jets . Erik Buhmann, Gregor Kasieczka, and Jesse Thaler. arXiv:2301.08128 . 2022 Comparing Point Cloud Strategies for Collider Event Classification . Peter Onyisi, Delon Shen, and Jesse Thaler. arXiv:2212.10659 . Degeneracy Engineering for Classical and Quantum Annealing: A Case Study of Sparse Linear Regression in Collider Physics . Eric R. Anschuetz, Lena Funcke, Patrick T. Komiske, Serhii Kryhin, and Jesse Thaler. Phys. Rev. D106:056008 (2022) , arXiv:2205.10375 . Power Counting Energy Flow Polynomials . Pedro Cal, Jesse Thaler, and Wouter J. Waalewijn. JHEP 2209:021 (2022) , arXiv:2205.06818 . Bias and Priors in Machine Learning Calibrations for High Energy Physics . Rikab Gambhir, Benjamin Nachman, and Jesse Thaler. Phys. Rev. D106:036011 (2022) , arXiv:2205.05084 . Disentangling Quarks and Gluons with CMS Open Data . Patrick T. Komiske, Serhii Kryhin, and Jesse Thaler. Phys. Rev. D106:094021 (2022) , arXiv:2205.04459 . Learning Uncertainties the Frequentist Way: Calibration and Correlation in High Energy Physics . Rikab Gambhir, Benjamin Nachman, and Jesse Thaler. Phys. Rev. Lett. 129:082001 (2022) , arXiv:2205.03413'"
      ]
     },
     "execution_count": 196,
     "metadata": {},
     "output_type": "execute_result"
    }
   ],
   "source": [
    "text_chunks[semantic_search(emb, embeddings)[0]]"
   ]
  },
  {
   "cell_type": "code",
   "execution_count": 197,
   "id": "16c45fab-29c1-43c3-8ef7-6c00bce23c8c",
   "metadata": {},
   "outputs": [
    {
     "ename": "ImportError",
     "evalue": "cannot import name 'storage' from 'google.cloud' (unknown location)",
     "output_type": "error",
     "traceback": [
      "\u001b[0;31m---------------------------------------------------------------------------\u001b[0m",
      "\u001b[0;31mImportError\u001b[0m                               Traceback (most recent call last)",
      "Cell \u001b[0;32mIn [197], line 1\u001b[0m\n\u001b[0;32m----> 1\u001b[0m \u001b[38;5;28;01mfrom\u001b[39;00m \u001b[38;5;21;01mchatjesset\u001b[39;00m \u001b[38;5;28;01mimport\u001b[39;00m load_csv_file_from_gcs\n\u001b[1;32m      3\u001b[0m csv_reader \u001b[38;5;241m=\u001b[39m load_csv_file_from_gcs(\u001b[38;5;124m\"\u001b[39m\u001b[38;5;124mchatjesset.appspot.com\u001b[39m\u001b[38;5;124m\"\u001b[39m, \u001b[38;5;124m\"\u001b[39m\u001b[38;5;124mtext_chunks.csv\u001b[39m\u001b[38;5;124m\"\u001b[39m)\n",
      "File \u001b[0;32m~/Projects/ChatJesseT/notebooks/../chatjesset.py:12\u001b[0m\n\u001b[1;32m     10\u001b[0m \u001b[38;5;28;01mfrom\u001b[39;00m \u001b[38;5;21;01msklearn\u001b[39;00m\u001b[38;5;21;01m.\u001b[39;00m\u001b[38;5;21;01mmetrics\u001b[39;00m\u001b[38;5;21;01m.\u001b[39;00m\u001b[38;5;21;01mpairwise\u001b[39;00m \u001b[38;5;28;01mimport\u001b[39;00m cosine_similarity\n\u001b[1;32m     11\u001b[0m \u001b[38;5;28;01mimport\u001b[39;00m \u001b[38;5;21;01mcsv\u001b[39;00m\n\u001b[0;32m---> 12\u001b[0m \u001b[38;5;28;01mfrom\u001b[39;00m \u001b[38;5;21;01mgoogle\u001b[39;00m\u001b[38;5;21;01m.\u001b[39;00m\u001b[38;5;21;01mcloud\u001b[39;00m \u001b[38;5;28;01mimport\u001b[39;00m storage\n\u001b[1;32m     13\u001b[0m \u001b[38;5;28;01mimport\u001b[39;00m \u001b[38;5;21;01mio\u001b[39;00m\n\u001b[1;32m     15\u001b[0m \u001b[38;5;28;01mfrom\u001b[39;00m \u001b[38;5;21;01mutils\u001b[39;00m\u001b[38;5;21;01m.\u001b[39;00m\u001b[38;5;21;01membedding_utils\u001b[39;00m \u001b[38;5;28;01mimport\u001b[39;00m get_embedding\n",
      "\u001b[0;31mImportError\u001b[0m: cannot import name 'storage' from 'google.cloud' (unknown location)"
     ]
    }
   ],
   "source": [
    "from chatjesset import load_csv_file_from_gcs\n",
    "\n",
    "csv_reader = load_csv_file_from_gcs(\"chatjesset.appspot.com\", \"text_chunks.csv\")"
   ]
  },
  {
   "cell_type": "code",
   "execution_count": null,
   "id": "6a777db7-78a8-4f31-a2ce-cecf1faa43d5",
   "metadata": {},
   "outputs": [],
   "source": []
  }
 ],
 "metadata": {
  "kernelspec": {
   "display_name": "Python 3 (ipykernel)",
   "language": "python",
   "name": "python3"
  },
  "language_info": {
   "codemirror_mode": {
    "name": "ipython",
    "version": 3
   },
   "file_extension": ".py",
   "mimetype": "text/x-python",
   "name": "python",
   "nbconvert_exporter": "python",
   "pygments_lexer": "ipython3",
   "version": "3.9.13"
  }
 },
 "nbformat": 4,
 "nbformat_minor": 5
}
