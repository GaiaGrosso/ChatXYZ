{
 "cells": [
  {
   "cell_type": "code",
   "execution_count": 1,
   "id": "73de4e83-3a20-4fdf-8a17-6720982f5f55",
   "metadata": {},
   "outputs": [],
   "source": [
    "import sys\n",
    "sys.path.append('../')\n",
    "import pandas as pd\n",
    "import numpy as np\n",
    "from tqdm import tqdm\n",
    "from tenacity import retry, stop_after_attempt, wait_random_exponential\n",
    "import os\n",
    "\n",
    "import openai\n",
    "\n",
    "from utils.embedding_utils import get_embedding, sliding_window"
   ]
  },
  {
   "cell_type": "code",
   "execution_count": 2,
   "id": "a9f01b5f-c649-42f3-95ce-a2ffeea7e256",
   "metadata": {},
   "outputs": [
    {
     "data": {
      "text/html": [
       "<div>\n",
       "<style scoped>\n",
       "    .dataframe tbody tr th:only-of-type {\n",
       "        vertical-align: middle;\n",
       "    }\n",
       "\n",
       "    .dataframe tbody tr th {\n",
       "        vertical-align: top;\n",
       "    }\n",
       "\n",
       "    .dataframe thead th {\n",
       "        text-align: right;\n",
       "    }\n",
       "</style>\n",
       "<table border=\"1\" class=\"dataframe\">\n",
       "  <thead>\n",
       "    <tr style=\"text-align: right;\">\n",
       "      <th></th>\n",
       "      <th>source_type</th>\n",
       "      <th>text</th>\n",
       "    </tr>\n",
       "  </thead>\n",
       "  <tbody>\n",
       "    <tr>\n",
       "      <th>0</th>\n",
       "      <td>paper</td>\n",
       "      <td>(Wednesday Moraine: Ele mentary Particles; J.R...</td>\n",
       "    </tr>\n",
       "    <tr>\n",
       "      <th>1</th>\n",
       "      <td>website</td>\n",
       "      <td>J. Robert Oppenheimer - Wikipedia, Jump to con...</td>\n",
       "    </tr>\n",
       "    <tr>\n",
       "      <th>2</th>\n",
       "      <td>website</td>\n",
       "      <td>Manhattan Project - Wikipedia, Jump to content...</td>\n",
       "    </tr>\n",
       "    <tr>\n",
       "      <th>3</th>\n",
       "      <td>website</td>\n",
       "      <td>Oppenheimer security hearing - Wikipedia, Jump...</td>\n",
       "    </tr>\n",
       "    <tr>\n",
       "      <th>4</th>\n",
       "      <td>website</td>\n",
       "      <td>American Prometheus - Wikipedia, Jump to conte...</td>\n",
       "    </tr>\n",
       "  </tbody>\n",
       "</table>\n",
       "</div>"
      ],
      "text/plain": [
       "  source_type                                               text\n",
       "0       paper  (Wednesday Moraine: Ele mentary Particles; J.R...\n",
       "1     website  J. Robert Oppenheimer - Wikipedia, Jump to con...\n",
       "2     website  Manhattan Project - Wikipedia, Jump to content...\n",
       "3     website  Oppenheimer security hearing - Wikipedia, Jump...\n",
       "4     website  American Prometheus - Wikipedia, Jump to conte..."
      ]
     },
     "execution_count": 2,
     "metadata": {},
     "output_type": "execute_result"
    }
   ],
   "source": [
    "victim = \"Oppie\"\n",
    "\n",
    "df = pd.read_csv(f\"../data/{victim}/db/df_text.csv\")\n",
    "df.head()"
   ]
  },
  {
   "cell_type": "code",
   "execution_count": 3,
   "id": "e694393c-a092-4295-88f9-0ad52b3db846",
   "metadata": {},
   "outputs": [],
   "source": [
    "df_filtered = df"
   ]
  },
  {
   "cell_type": "code",
   "execution_count": 4,
   "id": "74f91592-8e1e-499c-be1b-2587cbae7409",
   "metadata": {},
   "outputs": [
    {
     "name": "stderr",
     "output_type": "stream",
     "text": [
      "100%|██████████| 16/16 [02:37<00:00,  9.84s/it]\n"
     ]
    }
   ],
   "source": [
    "window_size = 256  # Length of text chunks\n",
    "stride = 192 # Stride of sliding window; have a bit of overlap\n",
    "\n",
    "text_chunks = []\n",
    "embeddings = []\n",
    "\n",
    "for i in tqdm(range(len(df_filtered))):\n",
    "    text = df_filtered['text'].values[i].replace('\\n', ' ').strip()\n",
    "    text_chunks_i = list(sliding_window(text, window_size, stride))\n",
    "    if len(text_chunks_i) > 80:  # If text too long, truncate\n",
    "        text_chunks_i = text_chunks_i[:80]\n",
    "    embeddings_i = [get_embedding(text) for text in text_chunks_i]\n",
    "    text_chunks += text_chunks_i\n",
    "    embeddings += embeddings_i"
   ]
  },
  {
   "cell_type": "code",
   "execution_count": 5,
   "id": "0bce225c-279e-42b8-8069-36c5ea7a2df4",
   "metadata": {},
   "outputs": [],
   "source": [
    "embeddings = np.array(embeddings, dtype=np.float64)"
   ]
  },
  {
   "cell_type": "code",
   "execution_count": 6,
   "id": "703fc623-cf26-4ae6-a261-06e58cf4c555",
   "metadata": {},
   "outputs": [],
   "source": [
    "data = [text_chunks]\n",
    "\n",
    "# Transpose the data to have the inner lists as rows\n",
    "transposed_data = list(map(list, zip(*data)))\n",
    "\n",
    "# Column names for the DataFrame\n",
    "columns = ['text_chunks']\n",
    "\n",
    "# Create the DataFrame\n",
    "df = pd.DataFrame(transposed_data, columns=columns)"
   ]
  },
  {
   "cell_type": "code",
   "execution_count": 7,
   "id": "f0d5a766-5a18-44b4-a9a6-1f5ef0b77d64",
   "metadata": {},
   "outputs": [],
   "source": [
    "df.to_csv(f'../data/{victim}/db/text_chunks.csv', index=False)\n",
    "np.save(f'../data/{victim}/db/embeddings.npy', embeddings)"
   ]
  },
  {
   "cell_type": "code",
   "execution_count": 8,
   "id": "92c5b17b-7cbe-434d-aa23-6fc3b62c6cb1",
   "metadata": {},
   "outputs": [],
   "source": [
    "from sklearn.metrics.pairwise import cosine_similarity\n",
    "from utils.embedding_utils import get_embedding\n",
    "\n",
    "def semantic_search(query_embedding, embeddings):\n",
    "    \"\"\"Load context prompt.\"\"\"\n",
    "    similarities = cosine_similarity([query_embedding], embeddings)[0]\n",
    "    ranked_indices = np.argsort(-similarities)\n",
    "    return ranked_indices"
   ]
  },
  {
   "cell_type": "code",
   "execution_count": 9,
   "id": "fd6c4863-510a-4e3c-9864-77aacea79be5",
   "metadata": {},
   "outputs": [
    {
     "data": {
      "text/plain": [
       "array([309, 304, 311,   0,   6, 323,  28,  29,  43, 308,  39,  38, 315,\n",
       "        44, 310,   1,  32, 411,  21,  86, 343, 336, 303, 305,   4, 338,\n",
       "         8,  22,  24,  42, 316, 306,  17,  25,   3, 329,  20,  16,   9,\n",
       "        27, 185, 337, 520, 335, 327, 312,  13, 320,   5,  37, 314,  31,\n",
       "         2,  30,  19,  18, 110, 321, 509, 331, 326, 359, 510,   7, 386,\n",
       "        61,  26,  56,  41, 184, 330, 381, 328,  55, 380,  10, 355,  23,\n",
       "       361, 195,  35, 350, 313, 121, 435, 478,  15,  40, 300, 625, 197,\n",
       "       340,  48, 379,  54, 317, 344, 522, 609, 154, 354, 324, 410, 284,\n",
       "       351, 388, 347,  85, 360, 385,  60, 342, 554, 508, 288, 502, 641,\n",
       "       352,  63,  33, 333, 268, 183, 287,  36, 318, 369, 511, 640,  14,\n",
       "       446, 229, 397, 187, 612,  58, 213, 179,  71, 622, 537, 512, 593,\n",
       "       364, 341, 271, 403, 153, 409, 505,  84,  11, 538,  81, 180,  67,\n",
       "       297, 373, 588, 565, 262, 432, 273, 392, 406,  80, 107, 615, 263,\n",
       "        96, 587, 610, 177, 129,  34, 405, 299, 285,  91, 590,  45, 345,\n",
       "       332, 266, 596, 339, 631, 196, 454, 629, 624, 272,  78, 212, 591,\n",
       "       186, 122,  72, 597, 188, 158, 325, 479, 378, 421, 383, 514, 230,\n",
       "       376, 611, 513, 370,  64, 433, 146, 264,  53, 221, 417, 181, 265,\n",
       "       240, 598, 589, 634, 504, 286, 108, 416, 572, 613, 389, 290, 447,\n",
       "       546, 633, 506, 211, 564, 247, 319, 131, 396, 456, 307, 189,  92,\n",
       "       216,  51, 267, 134, 519, 444, 346, 302, 132, 551, 483, 627, 260,\n",
       "       603, 176,  62, 647, 404, 536, 282, 334,  69, 541, 434, 119, 440,\n",
       "       457, 429, 439, 526, 205, 112, 555, 200, 459, 215, 394, 521, 278,\n",
       "       387, 274, 626, 301, 472, 109, 114, 239, 201, 294, 390, 436, 111,\n",
       "       530, 363, 298, 462, 371, 155, 656, 270, 437, 639, 194, 482, 384,\n",
       "       507,  46, 104, 592,  66, 106, 401, 226, 491,  59, 524, 534, 501,\n",
       "       348, 540,  65, 471,  12, 585, 105, 595, 349, 357, 525, 261,  79,\n",
       "       137, 531, 431, 182, 445, 460, 480, 126, 628, 607, 516, 402, 566,\n",
       "        76, 448, 199, 374, 243, 143, 391, 635, 115, 116, 157, 365, 468,\n",
       "       602, 492, 125, 450, 209, 621, 178, 123, 206, 539, 637, 430,  49,\n",
       "       120, 452,  99, 441, 296, 623,  83, 533, 481, 419,  77, 159, 503,\n",
       "       558, 451, 259, 418, 147, 228, 214, 208, 535,  94, 170, 449, 484,\n",
       "       490, 175, 136, 135, 210, 669, 568, 127, 356, 367, 124, 102, 573,\n",
       "        82, 275, 217, 495, 322, 241, 156, 424, 395, 353, 652, 191, 382,\n",
       "       166, 453, 642, 599, 172, 494, 103,  93, 407, 594, 232, 233, 291,\n",
       "       128, 248, 600, 428,  47, 553,  97, 638, 220,  57, 438, 616, 234,\n",
       "        90, 372, 542, 668, 601, 557, 400, 415, 276, 670, 169, 636,  70,\n",
       "       556, 632, 142, 292, 584,  68, 617, 236, 198, 646, 408, 165, 414,\n",
       "       498, 497, 362, 559, 523, 467, 231, 174, 167, 162, 500,  75, 144,\n",
       "       133, 190, 576, 426, 549, 545, 377, 470, 100, 295, 620, 368, 654,\n",
       "       246, 645, 113, 277, 269, 517, 469, 420, 567, 145, 141, 173, 375,\n",
       "        95, 425, 422, 648, 563, 398, 118, 399, 561, 258, 101, 461, 547,\n",
       "       218, 130, 289, 242, 163, 393, 560, 475,  73, 577, 281, 487, 458,\n",
       "       643, 253, 515, 665,  52, 477, 251, 455, 707,  74,  89, 583, 238,\n",
       "       667, 235, 571, 151, 644, 605, 604, 608, 193, 366, 476, 649, 488,\n",
       "       689, 630, 666, 473, 518, 443, 532, 543, 618, 660, 466, 293, 252,\n",
       "       653, 614,  50, 562, 171, 651, 222, 499, 606, 224, 688, 683, 280,\n",
       "        87, 283, 219, 442, 528, 279, 550,  98, 192, 148, 427, 207, 150,\n",
       "       412, 586, 117, 578, 486, 544, 485, 423, 574, 463, 358, 237, 582,\n",
       "       168, 496, 138, 655, 493, 250, 685, 152, 663, 650, 529, 671, 695,\n",
       "       552, 225, 227, 223, 575, 204, 164, 203, 256, 413, 581, 672, 686,\n",
       "       489, 140, 704, 687, 257, 659, 657, 245, 706, 249, 684, 548, 465,\n",
       "       705,  88, 569, 161, 474, 662, 570, 527, 678, 661, 692, 679, 664,\n",
       "       255, 244, 697, 680, 580, 658, 579, 202, 693, 464, 149, 694, 673,\n",
       "       681, 677, 254, 160, 696, 690, 675, 674, 676, 703, 691, 139, 701,\n",
       "       699, 682, 702, 698, 700, 619])"
      ]
     },
     "execution_count": 9,
     "metadata": {},
     "output_type": "execute_result"
    }
   ],
   "source": [
    "emb = get_embedding(\"Tell me about the pion\")\n",
    "semantic_search(emb, embeddings)"
   ]
  },
  {
   "cell_type": "code",
   "execution_count": 10,
   "id": "a9c8057a-d048-445e-b969-896e0c0508d6",
   "metadata": {},
   "outputs": [
    {
     "data": {
      "text/plain": [
       "'production is not at all surpri; ing 0 The discussion now shifted to the pion-nucleon scattering problem* Chew began, this discussion with what he characterized as a simple-minded theoreti\\xad cal attempt to understand the problem on the basis of Yukawa 5s fundamental idea. He had agreed to make the following rather glib statements only with the understanding that Dyson and Bethe would not contradict him at this session» but would take up these points in the technical theoretical session* The main feat\\xad ure of the Yukawa theory is that the fundamental process consists of the emiss\\xad ion or absorption of a single pion 0 If we assume that the motion of the nucléon is unimportant compared to the motion of the pion 3 that is, that nucléon pairs are not important, then the large interaction between the nucléon and pion must be in p states. This can be seen by considering the following diagram: The slow nucléon has angular slow nucléon J = l/2; Parity = + (definition) r.ucleon j -1/2; mesonj P ~ 1 momentum 1/2 and we arbitrar\\xad ily define its intrinsic parity P as positive 0 Then the emitted nucléon continues to have j —1/2 and positive parity* and we can ask what must be the angular momentum and parity of the emitted meson 0 Clearly it can only have angular momentum equal to either 0 or 1, and since its intrinsic par\\xad ity is negative with respect to the proton, the parity of the angular momentum state must be negative 0 Therefore'"
      ]
     },
     "execution_count": 10,
     "metadata": {},
     "output_type": "execute_result"
    }
   ],
   "source": [
    "text_chunks[semantic_search(emb, embeddings)[0]]"
   ]
  },
  {
   "cell_type": "code",
   "execution_count": null,
   "id": "6a777db7-78a8-4f31-a2ce-cecf1faa43d5",
   "metadata": {},
   "outputs": [],
   "source": []
  }
 ],
 "metadata": {
  "kernelspec": {
   "display_name": "Python 3 (ipykernel)",
   "language": "python",
   "name": "python3"
  },
  "language_info": {
   "codemirror_mode": {
    "name": "ipython",
    "version": 3
   },
   "file_extension": ".py",
   "mimetype": "text/x-python",
   "name": "python",
   "nbconvert_exporter": "python",
   "pygments_lexer": "ipython3",
   "version": "3.8.16"
  }
 },
 "nbformat": 4,
 "nbformat_minor": 5
}
