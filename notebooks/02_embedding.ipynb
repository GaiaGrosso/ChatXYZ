{
 "cells": [
  {
   "cell_type": "code",
   "execution_count": 18,
   "id": "73de4e83-3a20-4fdf-8a17-6720982f5f55",
   "metadata": {},
   "outputs": [],
   "source": [
    "import sys\n",
    "sys.path.append('../')\n",
    "import pandas as pd\n",
    "import numpy as np\n",
    "from tqdm import tqdm\n",
    "from tenacity import retry, stop_after_attempt, wait_random_exponential\n",
    "import os\n",
    "\n",
    "import openai\n",
    "\n",
    "from utils.embedding_utils import get_embedding, sliding_window"
   ]
  },
  {
   "cell_type": "code",
   "execution_count": 19,
   "id": "a9f01b5f-c649-42f3-95ce-a2ffeea7e256",
   "metadata": {},
   "outputs": [
    {
     "data": {
      "text/html": [
       "<div>\n",
       "<style scoped>\n",
       "    .dataframe tbody tr th:only-of-type {\n",
       "        vertical-align: middle;\n",
       "    }\n",
       "\n",
       "    .dataframe tbody tr th {\n",
       "        vertical-align: top;\n",
       "    }\n",
       "\n",
       "    .dataframe thead th {\n",
       "        text-align: right;\n",
       "    }\n",
       "</style>\n",
       "<table border=\"1\" class=\"dataframe\">\n",
       "  <thead>\n",
       "    <tr style=\"text-align: right;\">\n",
       "      <th></th>\n",
       "      <th>source_type</th>\n",
       "      <th>text</th>\n",
       "    </tr>\n",
       "  </thead>\n",
       "  <tbody>\n",
       "    <tr>\n",
       "      <th>0</th>\n",
       "      <td>paper</td>\n",
       "      <td>Marie Curie  \\n \\nRayons émis par les composés...</td>\n",
       "    </tr>\n",
       "    <tr>\n",
       "      <th>1</th>\n",
       "      <td>paper</td>\n",
       "      <td>Marie Curie\\nCurie c. 1920\\nBorn Maria Salomea...</td>\n",
       "    </tr>\n",
       "    <tr>\n",
       "      <th>2</th>\n",
       "      <td>paper</td>\n",
       "      <td>Radium and RadioactivityBy Mme. Sklodowska Cur...</td>\n",
       "    </tr>\n",
       "    <tr>\n",
       "      <th>3</th>\n",
       "      <td>paper</td>\n",
       "      <td>MOULD\\n74\\nCURRENT ONCOLOGY—VOLUME 14, NUMBER ...</td>\n",
       "    </tr>\n",
       "    <tr>\n",
       "      <th>4</th>\n",
       "      <td>paper</td>\n",
       "      <td>JULY,1931 REVIER'SOFMODER1V' I'HYSICS VOLUME 3...</td>\n",
       "    </tr>\n",
       "  </tbody>\n",
       "</table>\n",
       "</div>"
      ],
      "text/plain": [
       "  source_type                                               text\n",
       "0       paper  Marie Curie  \\n \\nRayons émis par les composés...\n",
       "1       paper  Marie Curie\\nCurie c. 1920\\nBorn Maria Salomea...\n",
       "2       paper  Radium and RadioactivityBy Mme. Sklodowska Cur...\n",
       "3       paper  MOULD\\n74\\nCURRENT ONCOLOGY—VOLUME 14, NUMBER ...\n",
       "4       paper  JULY,1931 REVIER'SOFMODER1V' I'HYSICS VOLUME 3..."
      ]
     },
     "execution_count": 19,
     "metadata": {},
     "output_type": "execute_result"
    }
   ],
   "source": [
    "victim = \"MarieCurie\"#\"Oppie\"\n",
    "\n",
    "df = pd.read_csv(f\"../data/{victim}/db/df_text.csv\")\n",
    "df.head()"
   ]
  },
  {
   "cell_type": "code",
   "execution_count": 20,
   "id": "e694393c-a092-4295-88f9-0ad52b3db846",
   "metadata": {},
   "outputs": [],
   "source": [
    "df_filtered = df"
   ]
  },
  {
   "cell_type": "code",
   "execution_count": 21,
   "id": "4caf95d8-ed7e-46a9-9e79-801a2fc1bd7e",
   "metadata": {},
   "outputs": [
    {
     "name": "stderr",
     "output_type": "stream",
     "text": [
      "100%|████████████████████████████████████████████████████████████████████████████████████████████████████████████████| 50/50 [03:00<00:00,  3.61s/it]\n"
     ]
    }
   ],
   "source": [
    "window_size = 256  # Length of text chunks\n",
    "stride = 192 # Stride of sliding window; have a bit of overlap\n",
    "\n",
    "text_chunks = []\n",
    "embeddings = []\n",
    "\n",
    "for i in tqdm(range(len(df_filtered))):\n",
    "    text = df_filtered['text'].values[i].replace('\\n', ' ').strip()\n",
    "    text_chunks_i = list(sliding_window(text, window_size, stride))\n",
    "    if len(text_chunks_i) > 80:  # If text too long, truncate\n",
    "        text_chunks_i = text_chunks_i[:80]\n",
    "    embeddings_i = [get_embedding(text) for text in text_chunks_i]\n",
    "    text_chunks += text_chunks_i\n",
    "    embeddings += embeddings_i"
   ]
  },
  {
   "cell_type": "code",
   "execution_count": 22,
   "id": "0bce225c-279e-42b8-8069-36c5ea7a2df4",
   "metadata": {},
   "outputs": [],
   "source": [
    "embeddings = np.array(embeddings, dtype=np.float64)"
   ]
  },
  {
   "cell_type": "code",
   "execution_count": 23,
   "id": "703fc623-cf26-4ae6-a261-06e58cf4c555",
   "metadata": {},
   "outputs": [],
   "source": [
    "data = [text_chunks]\n",
    "\n",
    "# Transpose the data to have the inner lists as rows\n",
    "transposed_data = list(map(list, zip(*data)))\n",
    "\n",
    "# Column names for the DataFrame\n",
    "columns = ['text_chunks']\n",
    "\n",
    "# Create the DataFrame\n",
    "df = pd.DataFrame(transposed_data, columns=columns)"
   ]
  },
  {
   "cell_type": "code",
   "execution_count": 24,
   "id": "f0d5a766-5a18-44b4-a9a6-1f5ef0b77d64",
   "metadata": {},
   "outputs": [],
   "source": [
    "df.to_csv(f'../data/{victim}/db/text_chunks.csv', index=False)\n",
    "np.save(f'../data/{victim}/db/embeddings.npy', embeddings)"
   ]
  },
  {
   "cell_type": "code",
   "execution_count": 25,
   "id": "92c5b17b-7cbe-434d-aa23-6fc3b62c6cb1",
   "metadata": {},
   "outputs": [],
   "source": [
    "from sklearn.metrics.pairwise import cosine_similarity\n",
    "from utils.embedding_utils import get_embedding\n",
    "\n",
    "def semantic_search(query_embedding, embeddings):\n",
    "    \"\"\"Load context prompt.\"\"\"\n",
    "    similarities = cosine_similarity([query_embedding], embeddings)[0]\n",
    "    ranked_indices = np.argsort(-similarities)\n",
    "    return ranked_indices"
   ]
  },
  {
   "cell_type": "code",
   "execution_count": 32,
   "id": "fd6c4863-510a-4e3c-9864-77aacea79be5",
   "metadata": {},
   "outputs": [
    {
     "data": {
      "text/plain": [
       "array([ 80, 684, 706, 528, 719, 701, 596, 589, 566, 532, 362, 573, 213,\n",
       "       689, 530, 379, 561, 565, 711, 592, 753, 692, 698, 366, 569, 702,\n",
       "       600,  49,  51, 496, 529, 754, 572, 712, 364, 725, 591, 703, 584,\n",
       "       699, 720, 494, 536, 688, 233, 531, 503, 603, 605, 713, 376, 137,\n",
       "       375, 578, 365, 533, 266,   9, 571, 497, 194,  87, 585, 724, 554,\n",
       "       740, 710, 728, 374, 193, 560, 500, 558, 570, 493, 382, 586, 691,\n",
       "       448, 718, 483, 525, 567, 244, 253, 730, 727, 722, 349, 583, 274,\n",
       "       604, 721, 715, 693, 553, 198, 542,  90, 723, 555, 676, 171,  61,\n",
       "       215,  79, 208, 611, 577,  39, 579,  50, 472, 582, 281, 219, 580,\n",
       "        52, 170, 211, 726, 732, 145, 714, 527, 383,  11, 243, 750, 147,\n",
       "       210, 128, 355,  63, 214, 677, 350, 562, 269, 690,  12, 129, 236,\n",
       "       524, 581, 745,  10, 367, 309,  32, 136, 212,  15, 535,  66, 286,\n",
       "       697,  54, 306, 127, 746, 300,   4, 334, 522, 380,  62, 149, 700,\n",
       "        57, 595, 308, 207, 473, 232, 259, 246, 360, 438,  60, 563, 240,\n",
       "       575, 108, 267, 446, 239, 216, 668, 197, 176, 501, 222,  70, 495,\n",
       "        55, 178,   2, 671,  95, 749, 526, 238, 204, 134, 564, 335, 235,\n",
       "       144, 131, 363,  14, 544,  33, 683, 741,  16, 599, 242, 498, 177,\n",
       "       467,  72,   8, 169, 151,  68, 601,  69, 146, 594, 361,  89, 576,\n",
       "       337, 130, 223, 696, 229, 252, 484, 541,  20, 321, 245, 550, 126,\n",
       "       268, 590, 606, 739, 574, 751, 106, 659, 152, 521, 540, 317, 158,\n",
       "       254, 173, 440,  31,  37, 202, 613, 150, 102, 304, 324, 633, 218,\n",
       "       166, 687, 488, 539, 163, 231, 262, 593, 733, 378,  38, 502, 504,\n",
       "       153, 482, 310,  22,  73, 165, 354,  40, 138, 455, 752, 551, 729,\n",
       "       230, 156, 617, 263, 301,  91, 552, 731, 474, 133, 738, 649, 439,\n",
       "       105, 556, 658,  13, 291, 258, 568, 615,  64, 249, 224, 206,  17,\n",
       "       161, 381, 662, 657, 629, 112, 743, 445, 348,  88,  53, 111, 520,\n",
       "       329, 179, 282, 670, 420,  76, 109,  82,  23, 641, 225, 103, 397,\n",
       "         1, 271, 747, 237, 124, 261, 323, 609, 479, 283, 318, 322, 181,\n",
       "       443, 184,  27, 264, 199, 155, 183, 226, 290, 674, 602, 289, 221,\n",
       "       190, 547,  94,  45, 250, 257, 685, 182, 104, 678, 735,  81, 707,\n",
       "       423,  42,  30,  92, 656,  59, 597,  65, 456, 288, 357, 189, 469,\n",
       "        83, 272,  56, 534, 270, 441, 148,  75, 616,   3, 422, 559, 347,\n",
       "       612, 107, 705, 450, 338, 737,  21,  19, 203, 499, 241, 679, 336,\n",
       "        58, 191,  86,  47, 333, 557, 548,  77, 543, 160, 630, 320, 627,\n",
       "       164,  18, 734, 332, 220, 276, 598, 695, 377,   5, 157, 195,  43,\n",
       "       140, 273,  74, 675, 385,  96, 744, 449, 673, 667,  71, 623, 339,\n",
       "       614,  28, 351, 217, 159, 628, 280, 100, 287, 205, 185, 139, 626,\n",
       "       132,  24, 505, 452, 113, 192, 665, 175, 330, 346, 454, 666,  67,\n",
       "        36, 387, 624, 672, 480,  26, 642, 384, 196, 172,  44, 392, 278,\n",
       "       389, 545, 154, 736, 471, 478, 470, 115, 356, 187, 451,  93, 610,\n",
       "        48,  46,  25, 119, 664, 116, 748,  99, 373, 284, 279, 228, 386,\n",
       "       459, 645, 125, 256, 661, 643, 277, 663, 186, 457, 475, 444, 299,\n",
       "       162, 135, 292, 200, 118, 608, 110, 201,   0, 388, 631, 307, 390,\n",
       "        35, 255, 491, 260,  34, 669, 227, 418, 644, 311, 391, 742, 275,\n",
       "       303,   7, 468, 141,  41, 247, 188,  84, 353, 101, 620,  97, 325,\n",
       "       655, 652, 481, 680, 285, 460, 432, 359, 464, 607, 637, 421, 305,\n",
       "       646, 396,  78, 458, 453, 538, 416, 648, 492, 431, 174, 427, 622,\n",
       "       406, 209, 123,  85, 537, 316, 403, 477,  98, 294, 632, 447, 653,\n",
       "       465, 514, 167, 142, 546, 708, 523, 549, 248, 515, 463, 487, 650,\n",
       "       265, 476, 331, 424, 717,  29, 426, 686, 143, 407, 402, 120, 121,\n",
       "       519, 462, 442, 399, 510, 461, 654, 122, 425, 640, 704, 168, 621,\n",
       "       398, 328, 419, 368, 634, 437, 486, 639, 681, 400, 507, 694, 511,\n",
       "       490, 251, 434, 508, 429, 647, 342, 234, 401, 513, 343, 408, 369,\n",
       "       635, 618, 314, 636, 393, 716, 412, 651, 619, 405, 117, 395, 313,\n",
       "       506, 587, 435, 436, 404, 417, 625, 516, 428, 485, 372, 298, 517,\n",
       "       410, 415, 358, 295, 430, 302, 638, 409, 180,   6, 394, 660, 588,\n",
       "       315, 411, 312, 682, 345, 326, 352, 466, 114, 518, 414, 509, 327,\n",
       "       433, 512, 709, 371, 370, 413, 293, 319, 341, 297, 344, 296, 340,\n",
       "       489])"
      ]
     },
     "execution_count": 32,
     "metadata": {},
     "output_type": "execute_result"
    }
   ],
   "source": [
    "emb = get_embedding(\"Tell me about science\")#(\"Tell me about the pion\")\n",
    "semantic_search(emb, embeddings)"
   ]
  },
  {
   "cell_type": "code",
   "execution_count": 33,
   "id": "a9c8057a-d048-445e-b969-896e0c0508d6",
   "metadata": {},
   "outputs": [
    {
     "data": {
      "text/plain": [
       "'science, as it has so often done in the past, and to facilitate and expedite by generous gifts the success of researches the inﬂuence of which may be far-reaching.'"
      ]
     },
     "execution_count": 33,
     "metadata": {},
     "output_type": "execute_result"
    }
   ],
   "source": [
    "text_chunks[semantic_search(emb, embeddings)[0]]"
   ]
  },
  {
   "cell_type": "code",
   "execution_count": null,
   "id": "6a777db7-78a8-4f31-a2ce-cecf1faa43d5",
   "metadata": {},
   "outputs": [],
   "source": []
  }
 ],
 "metadata": {
  "kernelspec": {
   "display_name": "Python 3 (ipykernel)",
   "language": "python",
   "name": "python3"
  },
  "language_info": {
   "codemirror_mode": {
    "name": "ipython",
    "version": 3
   },
   "file_extension": ".py",
   "mimetype": "text/x-python",
   "name": "python",
   "nbconvert_exporter": "python",
   "pygments_lexer": "ipython3",
   "version": "3.11.5"
  }
 },
 "nbformat": 4,
 "nbformat_minor": 5
}
