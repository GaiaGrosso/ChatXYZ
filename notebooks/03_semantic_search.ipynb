{
 "cells": [
  {
   "cell_type": "code",
   "execution_count": 8,
   "id": "d766a2bb-76d6-473d-b843-88793a0569ab",
   "metadata": {},
   "outputs": [],
   "source": [
    "import openai\n",
    "import pandas as pd\n",
    "import numpy as np\n",
    "from sklearn.metrics.pairwise import cosine_similarity"
   ]
  },
  {
   "cell_type": "code",
   "execution_count": 9,
   "id": "c81c9551-05bd-4e5b-8ed7-21f181829846",
   "metadata": {},
   "outputs": [],
   "source": [
    "df_emb = pd.read_csv('../data/embeddings/df_emb.csv')\n",
    "embeddings = np.load(\"../data/embeddings/embeddings.npy\")"
   ]
  },
  {
   "cell_type": "code",
   "execution_count": 10,
   "id": "c69f065d-27ad-450b-b42c-acb7b5a007e2",
   "metadata": {},
   "outputs": [],
   "source": [
    "openai.api_key = \"\""
   ]
  },
  {
   "cell_type": "code",
   "execution_count": 11,
   "id": "38b20596-90d3-45de-9d3e-ed0e61457331",
   "metadata": {},
   "outputs": [],
   "source": [
    "n_relevant_chunks = 4"
   ]
  },
  {
   "cell_type": "code",
   "execution_count": 12,
   "id": "d2c9c838-02bf-41ac-973d-455dd8a7238b",
   "metadata": {},
   "outputs": [],
   "source": [
    "system_prompt = f\"\"\"\n",
    "\"\"\""
   ]
  },
  {
   "cell_type": "code",
   "execution_count": 13,
   "id": "d2b7366b-996b-4799-8a89-ad6c9f18df4f",
   "metadata": {},
   "outputs": [],
   "source": [
    "def semantic_search(query_embedding, embeddings):\n",
    "    similarities = cosine_similarity([query_embedding], embeddings)[0]\n",
    "    ranked_indices = np.argsort(-similarities)\n",
    "    return ranked_indices\n",
    "\n",
    "def answer_question(chunk, question, model=\"gpt-3.5-turbo\", max_tokens=300, temperature=0.7):\n",
    "    question = f\"Here is some information: {chunk}\\nQuestion: {question}.\"\n",
    "    response = openai.ChatCompletion.create(\n",
    "        model=model,\n",
    "        messages=[{\"role\": \"system\", \"content\": system_prompt},\n",
    "                  {\"role\": \"user\", \"content\": question}],\n",
    "        max_tokens=max_tokens,\n",
    "        n=1,\n",
    "        temperature=temperature,\n",
    "    )\n",
    "    return response[\"choices\"][0][\"message\"][\"content\"]\n",
    "\n",
    "def get_embedding(text, model=\"text-embedding-ada-002\"):\n",
    "    text = text.replace(\"\\n\", \" \")\n",
    "    return openai.Embedding.create(input = [text], model=model)['data'][0]['embedding']"
   ]
  },
  {
   "cell_type": "code",
   "execution_count": 17,
   "id": "d691725b-c6e1-4f7d-b569-af2cb3eee569",
   "metadata": {},
   "outputs": [
    {
     "data": {
      "text/plain": [
       "\"Well, hello there! My name is Jesse Thaler and I am a Professor of Physics at the Center for Theoretical Physics at MIT. I am also the Director of The NSF AI Institute for Artificial Intelligence and Fundamental Interactions (IAIFI), which is a mouthful, I know. But don't worry, we're not as intimidating as our name suggests. We just like to advance physics knowledge and galvanize AI research innovation, no biggie. \\n\\nOh, and I am currently serving on the Particle Physics Project Prioritization Panel (P5). You know, just helping to hash out priorities for the future of particle physics for the next 10 years within 20-year context. No pressure or anything. \\n\\nBut enough about me, let's talk about you! How can I assist you today?\""
      ]
     },
     "execution_count": 17,
     "metadata": {},
     "output_type": "execute_result"
    }
   ],
   "source": [
    "query = \"What organizations are you part of\"\n",
    "query_embedding = get_embedding(query)\n",
    "ranked_indices = semantic_search(np.array(query_embedding), embeddings)\n",
    "most_relevant_chunk = \" \".join(np.array(df_emb['text_chunks'])[ranked_indices[:n_relevant_chunks]].flatten())\n",
    "answer = answer_question(most_relevant_chunk, query)\n",
    "answer.strip('\\n')"
   ]
  },
  {
   "cell_type": "code",
   "execution_count": null,
   "id": "ba30f91a-16cc-44d7-a92c-b4e0a2870aad",
   "metadata": {},
   "outputs": [],
   "source": []
  }
 ],
 "metadata": {
  "kernelspec": {
   "display_name": "Python 3 (ipykernel)",
   "language": "python",
   "name": "python3"
  },
  "language_info": {
   "codemirror_mode": {
    "name": "ipython",
    "version": 3
   },
   "file_extension": ".py",
   "mimetype": "text/x-python",
   "name": "python",
   "nbconvert_exporter": "python",
   "pygments_lexer": "ipython3",
   "version": "3.9.12"
  }
 },
 "nbformat": 4,
 "nbformat_minor": 5
}
