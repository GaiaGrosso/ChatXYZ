{
 "cells": [
  {
   "cell_type": "code",
   "execution_count": 3,
   "id": "3513cde2-29d4-4688-b29d-200afbfd13d9",
   "metadata": {},
   "outputs": [
    {
     "name": "stdout",
     "output_type": "stream",
     "text": [
      "The autoreload extension is already loaded. To reload it, use:\n",
      "  %reload_ext autoreload\n"
     ]
    }
   ],
   "source": [
    "import os\n",
    "import sys\n",
    "sys.path.append(\"../\")\n",
    "\n",
    "import pandas as pd\n",
    "from tqdm import tqdm\n",
    "\n",
    "from langchain.document_loaders import PyPDFLoader\n",
    "\n",
    "from utils.arxiv_utils import get_inspire_hep_papers, extract_arxiv_ids, download_arxiv_source, remove_latex_preamble\n",
    "from utils.db_utils import update_dataframe, delete_files_except_extensions, get_filenames_with_extensions, scrape_website_text\n",
    "\n",
    "%load_ext autoreload\n",
    "%autoreload 2"
   ]
  },
  {
   "cell_type": "code",
   "execution_count": 4,
   "id": "18f2b898",
   "metadata": {},
   "outputs": [],
   "source": [
    "pdf_dir = '../data/papers/'  # directory to store PDFs\n",
    "db_dir = '../data/db/'  # directory to store database CSVs\n",
    "txt_dir = '../data/interviews/'  # directory to store interview transcripts"
   ]
  },
  {
   "cell_type": "markdown",
   "id": "a1f44e2c-9a64-4386-a636-5ddaed26e22b",
   "metadata": {},
   "source": [
    "## 1. Papers"
   ]
  },
  {
   "cell_type": "code",
   "execution_count": 5,
   "id": "1147bcaf-6167-47ba-b12f-49c83aed50fc",
   "metadata": {},
   "outputs": [
    {
     "name": "stdout",
     "output_type": "stream",
     "text": [
      "Directory '../data/papers/' already exists\n"
     ]
    },
    {
     "name": "stderr",
     "output_type": "stream",
     "text": [
      "  2%|█                                                        | 1/55 [00:10<09:51, 10.95s/it]"
     ]
    },
    {
     "name": "stdout",
     "output_type": "stream",
     "text": [
      "Found 1 .tex files in 1908.08542\n",
      "They are: ['../data/papers/1908.08542/mod_emd.tex']\n",
      "Using ../data/papers/1908.08542/mod_emd.tex as the main .tex file\n"
     ]
    },
    {
     "name": "stderr",
     "output_type": "stream",
     "text": [
      "  4%|██                                                       | 2/55 [00:13<05:28,  6.20s/it]"
     ]
    },
    {
     "name": "stdout",
     "output_type": "stream",
     "text": [
      "Found 1 .tex files in 2004.04159\n",
      "They are: ['../data/papers/2004.04159/eventgeometry.tex']\n",
      "Using ../data/papers/2004.04159/eventgeometry.tex as the main .tex file\n"
     ]
    },
    {
     "name": "stderr",
     "output_type": "stream",
     "text": [
      "  5%|███                                                      | 3/55 [00:16<03:48,  4.39s/it]"
     ]
    },
    {
     "name": "stdout",
     "output_type": "stream",
     "text": [
      "Found 1 .tex files in 2101.07263\n",
      "They are: ['../data/papers/2101.07263/main.tex']\n",
      "Using ../data/papers/2101.07263/main.tex as the main .tex file\n"
     ]
    },
    {
     "name": "stderr",
     "output_type": "stream",
     "text": [
      "  7%|████▏                                                    | 4/55 [00:16<02:30,  2.95s/it]"
     ]
    },
    {
     "name": "stdout",
     "output_type": "stream",
     "text": [
      "Found 1 .tex files in 1810.11032\n",
      "They are: ['../data/papers/1810.11032/NavigatingCollinearSuperspace_v3.tex']\n",
      "Using ../data/papers/1810.11032/NavigatingCollinearSuperspace_v3.tex as the main .tex file\n"
     ]
    },
    {
     "name": "stderr",
     "output_type": "stream",
     "text": [
      "  9%|█████▏                                                   | 5/55 [00:17<01:49,  2.18s/it]"
     ]
    },
    {
     "name": "stdout",
     "output_type": "stream",
     "text": [
      "Found 1 .tex files in 1911.04491\n",
      "They are: ['../data/papers/1911.04491/efms.tex']\n",
      "Using ../data/papers/1911.04491/efms.tex as the main .tex file\n"
     ]
    },
    {
     "name": "stderr",
     "output_type": "stream",
     "text": [
      " 11%|██████▏                                                  | 6/55 [00:24<03:01,  3.71s/it]"
     ]
    },
    {
     "name": "stdout",
     "output_type": "stream",
     "text": [
      "Found 1 .tex files in 2008.08596\n",
      "They are: ['../data/papers/2008.08596/topics_draft.tex']\n",
      "Using ../data/papers/2008.08596/topics_draft.tex as the main .tex file\n"
     ]
    },
    {
     "name": "stderr",
     "output_type": "stream",
     "text": [
      " 13%|███████▎                                                 | 7/55 [00:32<04:00,  5.02s/it]"
     ]
    },
    {
     "name": "stdout",
     "output_type": "stream",
     "text": [
      "Found 1 .tex files in 2112.05722\n",
      "They are: ['../data/papers/2112.05722/main.tex']\n",
      "Using ../data/papers/2112.05722/main.tex as the main .tex file\n"
     ]
    },
    {
     "name": "stderr",
     "output_type": "stream",
     "text": [
      " 15%|████████▎                                                | 8/55 [00:48<06:44,  8.61s/it]"
     ]
    },
    {
     "name": "stdout",
     "output_type": "stream",
     "text": [
      "Found 1 .tex files in 2205.02857\n",
      "They are: ['../data/papers/2205.02857/celestial_nongaussianity.tex']\n",
      "Using ../data/papers/2205.02857/celestial_nongaussianity.tex as the main .tex file\n"
     ]
    },
    {
     "name": "stderr",
     "output_type": "stream",
     "text": [
      " 16%|█████████▎                                               | 9/55 [00:57<06:38,  8.67s/it]"
     ]
    },
    {
     "name": "stdout",
     "output_type": "stream",
     "text": [
      "Found 1 .tex files in 1902.02346\n",
      "They are: ['../data/papers/1902.02346/emd.tex']\n",
      "Using ../data/papers/1902.02346/emd.tex as the main .tex file\n"
     ]
    },
    {
     "name": "stderr",
     "output_type": "stream",
     "text": [
      " 18%|██████████▏                                             | 10/55 [01:14<08:28, 11.29s/it]"
     ]
    },
    {
     "name": "stdout",
     "output_type": "stream",
     "text": [
      "Found 2 .tex files in 2205.06818\n",
      "They are: ['../data/papers/2205.06818/main.tex', '../data/papers/2205.06818/Resummation EFPs/main.tex']\n",
      "Using ../data/papers/2205.06818/main.tex as the main .tex file\n"
     ]
    },
    {
     "name": "stderr",
     "output_type": "stream",
     "text": [
      " 20%|███████████▏                                            | 11/55 [01:19<06:51,  9.36s/it]"
     ]
    },
    {
     "name": "stdout",
     "output_type": "stream",
     "text": [
      "Found 1 .tex files in 1911.09107\n",
      "They are: ['../data/papers/1911.09107/main.tex']\n",
      "Using ../data/papers/1911.09107/main.tex as the main .tex file\n"
     ]
    },
    {
     "name": "stderr",
     "output_type": "stream",
     "text": [
      " 22%|████████████▏                                           | 12/55 [01:25<05:55,  8.27s/it]"
     ]
    },
    {
     "name": "stdout",
     "output_type": "stream",
     "text": [
      "Found 1 .tex files in 1901.10652\n",
      "They are: ['../data/papers/1901.10652/ABRA_Technical_PRD_2019_singleFile.tex']\n",
      "Using ../data/papers/1901.10652/ABRA_Technical_PRD_2019_singleFile.tex as the main .tex file\n"
     ]
    },
    {
     "name": "stderr",
     "output_type": "stream",
     "text": [
      " 24%|█████████████▏                                          | 13/55 [01:25<04:11,  5.99s/it]"
     ]
    },
    {
     "name": "stdout",
     "output_type": "stream",
     "text": [
      "Found 2 .tex files in 1908.08949\n",
      "They are: ['../data/papers/1908.08949/quantum_thrust_arXiv_v2.tex', '../data/papers/1908.08949/Qcircuit.tex']\n",
      "Using ../data/papers/1908.08949/quantum_thrust_arXiv_v2.tex as the main .tex file\n"
     ]
    },
    {
     "name": "stderr",
     "output_type": "stream",
     "text": [
      " 25%|██████████████▎                                         | 14/55 [01:26<03:02,  4.45s/it]"
     ]
    },
    {
     "name": "stdout",
     "output_type": "stream",
     "text": [
      "Found 3 .tex files in 2003.07868\n",
      "They are: ['../data/papers/2003.07868/jdefs.tex', '../data/papers/2003.07868/report.tex', '../data/papers/2003.07868/authors_all_alphabetical.tex']\n",
      "Using ../data/papers/2003.07868/report.tex as the main .tex file\n"
     ]
    },
    {
     "name": "stderr",
     "output_type": "stream",
     "text": [
      " 27%|███████████████▎                                        | 15/55 [01:30<02:53,  4.34s/it]"
     ]
    },
    {
     "name": "stdout",
     "output_type": "stream",
     "text": [
      "Found 1 .tex files in 2211.13519\n",
      "They are: ['../data/papers/2211.13519/main.tex']\n",
      "Using ../data/papers/2211.13519/main.tex as the main .tex file\n"
     ]
    },
    {
     "name": "stderr",
     "output_type": "stream",
     "text": [
      " 29%|████████████████▎                                       | 16/55 [01:34<02:36,  4.01s/it]"
     ]
    },
    {
     "name": "stdout",
     "output_type": "stream",
     "text": [
      "Found 1 .tex files in 1906.00489\n",
      "They are: ['../data/papers/1906.00489/ridgepaperALEPH.tex']\n",
      "Using ../data/papers/1906.00489/ridgepaperALEPH.tex as the main .tex file\n"
     ]
    },
    {
     "name": "stderr",
     "output_type": "stream",
     "text": [
      " 31%|█████████████████▎                                      | 17/55 [01:36<02:12,  3.47s/it]"
     ]
    },
    {
     "name": "stdout",
     "output_type": "stream",
     "text": [
      "Found 1 .tex files in 1810.12257\n",
      "They are: ['../data/papers/1810.12257/ABRA_PRL_2018_singleFile.tex']\n",
      "Using ../data/papers/1810.12257/ABRA_PRL_2018_singleFile.tex as the main .tex file\n"
     ]
    },
    {
     "name": "stderr",
     "output_type": "stream",
     "text": [
      " 33%|██████████████████▎                                     | 18/55 [01:38<01:53,  3.07s/it]"
     ]
    },
    {
     "name": "stdout",
     "output_type": "stream",
     "text": [
      "Found 1 .tex files in 1902.04222\n",
      "They are: ['../data/papers/1902.04222/mumu_v2p2.tex']\n",
      "Using ../data/papers/1902.04222/mumu_v2p2.tex as the main .tex file\n"
     ]
    },
    {
     "name": "stderr",
     "output_type": "stream",
     "text": [
      " 35%|███████████████████▎                                    | 19/55 [01:44<02:24,  4.01s/it]"
     ]
    },
    {
     "name": "stdout",
     "output_type": "stream",
     "text": [
      "Found 1 .tex files in 1812.05111\n",
      "They are: ['../data/papers/1812.05111/quantile_v2.tex']\n",
      "Using ../data/papers/1812.05111/quantile_v2.tex as the main .tex file\n"
     ]
    },
    {
     "name": "stderr",
     "output_type": "stream",
     "text": [
      " 36%|████████████████████▎                                   | 20/55 [01:51<02:50,  4.86s/it]"
     ]
    },
    {
     "name": "stdout",
     "output_type": "stream",
     "text": [
      "Found 2 .tex files in 2109.06065\n",
      "They are: ['../data/papers/2109.06065/main.tex', '../data/papers/2109.06065/UnveilingHiddenPhysicsAtTheLHC _v1/main.tex']\n",
      "Using ../data/papers/2109.06065/UnveilingHiddenPhysicsAtTheLHC _v1/main.tex as the main .tex file\n"
     ]
    },
    {
     "name": "stderr",
     "output_type": "stream",
     "text": [
      " 38%|█████████████████████▍                                  | 21/55 [01:52<02:07,  3.74s/it]"
     ]
    },
    {
     "name": "stdout",
     "output_type": "stream",
     "text": [
      "Found 1 .tex files in 2109.13243\n",
      "They are: ['../data/papers/2109.13243/paper.tex']\n",
      "Using ../data/papers/2109.13243/paper.tex as the main .tex file\n"
     ]
    },
    {
     "name": "stderr",
     "output_type": "stream",
     "text": [
      " 40%|██████████████████████▍                                 | 22/55 [01:53<01:35,  2.89s/it]"
     ]
    },
    {
     "name": "stdout",
     "output_type": "stream",
     "text": [
      "Found 1 .tex files in 2205.03413\n",
      "They are: ['../data/papers/2205.03413/main.tex']\n",
      "Using ../data/papers/2205.03413/main.tex as the main .tex file\n"
     ]
    },
    {
     "name": "stderr",
     "output_type": "stream",
     "text": [
      " 42%|███████████████████████▍                                | 23/55 [01:55<01:25,  2.66s/it]"
     ]
    },
    {
     "name": "stdout",
     "output_type": "stream",
     "text": [
      "Found 1 .tex files in 2107.08979\n",
      "They are: ['../data/papers/2107.08979/main.tex']\n",
      "Using ../data/papers/2107.08979/main.tex as the main .tex file\n"
     ]
    },
    {
     "name": "stderr",
     "output_type": "stream",
     "text": [
      " 44%|████████████████████████▍                               | 24/55 [02:13<03:46,  7.29s/it]"
     ]
    },
    {
     "name": "stdout",
     "output_type": "stream",
     "text": [
      "Found 1 .tex files in 2205.10375\n",
      "They are: ['../data/papers/2205.10375/qubo_lzero.tex']\n",
      "Using ../data/papers/2205.10375/qubo_lzero.tex as the main .tex file\n"
     ]
    },
    {
     "name": "stderr",
     "output_type": "stream",
     "text": [
      " 45%|█████████████████████████▍                              | 25/55 [02:15<02:46,  5.57s/it]"
     ]
    },
    {
     "name": "stdout",
     "output_type": "stream",
     "text": [
      "Found 1 .tex files in 2201.07800\n",
      "They are: ['../data/papers/2201.07800/EEC_opendata_v6.tex']\n",
      "Using ../data/papers/2201.07800/EEC_opendata_v6.tex as the main .tex file\n"
     ]
    },
    {
     "name": "stderr",
     "output_type": "stream",
     "text": [
      " 47%|██████████████████████████▍                             | 26/55 [02:16<02:03,  4.27s/it]"
     ]
    },
    {
     "name": "stdout",
     "output_type": "stream",
     "text": [
      "Found 1 .tex files in 2010.11998\n",
      "They are: ['../data/papers/2010.11998/main_v2_arXiv.tex']\n",
      "Using ../data/papers/2010.11998/main_v2_arXiv.tex as the main .tex file\n"
     ]
    },
    {
     "name": "stderr",
     "output_type": "stream",
     "text": [
      " 49%|███████████████████████████▍                            | 27/55 [02:43<05:12, 11.17s/it]"
     ]
    },
    {
     "name": "stdout",
     "output_type": "stream",
     "text": [
      "Found 1 .tex files in 2205.04459\n",
      "They are: ['../data/papers/2205.04459/open_data_topics_prd.tex']\n",
      "Using ../data/papers/2205.04459/open_data_topics_prd.tex as the main .tex file\n"
     ]
    },
    {
     "name": "stderr",
     "output_type": "stream",
     "text": [
      " 51%|████████████████████████████▌                           | 28/55 [02:44<03:40,  8.16s/it]"
     ]
    },
    {
     "name": "stdout",
     "output_type": "stream",
     "text": [
      "Found 1 .tex files in 1909.00009\n",
      "They are: ['../data/papers/1909.00009/Circumnavigating_Collinear_Superspace_arXivv3.tex']\n",
      "Using ../data/papers/1909.00009/Circumnavigating_Collinear_Superspace_arXivv3.tex as the main .tex file\n"
     ]
    },
    {
     "name": "stderr",
     "output_type": "stream",
     "text": [
      " 53%|█████████████████████████████▌                          | 29/55 [02:46<02:42,  6.23s/it]"
     ]
    },
    {
     "name": "stdout",
     "output_type": "stream",
     "text": [
      "Found 1 .tex files in 2205.02814\n",
      "They are: ['../data/papers/2205.02814/quantum_thrust.tex']\n",
      "Using ../data/papers/2205.02814/quantum_thrust.tex as the main .tex file\n"
     ]
    },
    {
     "name": "stderr",
     "output_type": "stream",
     "text": [
      " 55%|██████████████████████████████▌                         | 30/55 [02:53<02:38,  6.36s/it]"
     ]
    },
    {
     "name": "stdout",
     "output_type": "stream",
     "text": [
      "Found 1 .tex files in 2111.09914\n",
      "They are: ['../data/papers/2111.09914/ridgepaperALEPH.tex']\n",
      "Using ../data/papers/2111.09914/ridgepaperALEPH.tex as the main .tex file\n"
     ]
    },
    {
     "name": "stderr",
     "output_type": "stream",
     "text": [
      " 56%|███████████████████████████████▌                        | 31/55 [02:54<01:56,  4.84s/it]"
     ]
    },
    {
     "name": "stdout",
     "output_type": "stream",
     "text": [
      "Found 1 .tex files in 1809.01656\n",
      "They are: ['../data/papers/1809.01656/axion_interferometry.tex']\n",
      "Using ../data/papers/1809.01656/axion_interferometry.tex as the main .tex file\n"
     ]
    },
    {
     "name": "stderr",
     "output_type": "stream",
     "text": [
      " 58%|████████████████████████████████▌                       | 32/55 [02:55<01:23,  3.62s/it]"
     ]
    },
    {
     "name": "stdout",
     "output_type": "stream",
     "text": [
      "Found 1 .tex files in 2205.05084\n",
      "They are: ['../data/papers/2205.05084/main.tex']\n",
      "Using ../data/papers/2205.05084/main.tex as the main .tex file\n"
     ]
    },
    {
     "name": "stderr",
     "output_type": "stream",
     "text": [
      " 60%|█████████████████████████████████▌                      | 33/55 [02:57<01:07,  3.06s/it]"
     ]
    },
    {
     "name": "stdout",
     "output_type": "stream",
     "text": [
      "Found 12 .tex files in 2203.08805\n",
      "They are: ['../data/papers/2203.08805/main.tex', '../data/papers/2203.08805/Sections/challenges.tex', '../data/papers/2203.08805/Sections/classification.tex', '../data/papers/2203.08805/Sections/data_generation.tex', '../data/papers/2203.08805/Sections/outlook.tex', '../data/papers/2203.08805/Sections/extra_text.tex', '../data/papers/2203.08805/Sections/object_reconstruction.tex', '../data/papers/2203.08805/Sections/quantum_computing.tex', '../data/papers/2203.08805/Sections/info_processing.tex', '../data/papers/2203.08805/Sections/VQCcircuit.tex', '../data/papers/2203.08805/Sections/introduction.tex', '../data/papers/2203.08805/Sections/quantum_inspired_algos.tex']\n",
      "Using ../data/papers/2203.08805/Sections/classification.tex as the main .tex file\n"
     ]
    },
    {
     "name": "stderr",
     "output_type": "stream",
     "text": [
      " 62%|██████████████████████████████████▌                     | 34/55 [03:04<01:34,  4.49s/it]"
     ]
    },
    {
     "name": "stdout",
     "output_type": "stream",
     "text": [
      "Found 4 .tex files in 2301.08128\n",
      "They are: ['../data/papers/2301.08128/epic.tex', '../data/papers/2301.08128/SciPostPhys_Template.tex', '../data/papers/2301.08128/old_JHEP/_paper.tex', '../data/papers/2301.08128/old_JHEP/jhepexample.tex']\n",
      "Using ../data/papers/2301.08128/epic.tex as the main .tex file\n"
     ]
    },
    {
     "name": "stderr",
     "output_type": "stream",
     "text": [
      " 64%|███████████████████████████████████▋                    | 35/55 [03:25<03:03,  9.19s/it]"
     ]
    },
    {
     "name": "stdout",
     "output_type": "stream",
     "text": [
      "Found 55 .tex files in 1803.07977\n",
      "They are: ['../data/papers/1803.07977/LH17_intro.tex', '../data/papers/1803.07977/LH17.tex', '../data/papers/1803.07977/LH17_Conveners.tex', '../data/papers/1803.07977/LH17_authors.tex', '../data/papers/1803.07977/LH17_macros.tex', '../data/papers/1803.07977/Higgs_vbf_nnlo/vbf_nnlo.main.tex', '../data/papers/1803.07977/SM_Higgs_jet_R/Higgs_jet_R.main.tex', '../data/papers/1803.07977/SM_ewmerging_ttbar/ewmerging_ttbar.main.tex', '../data/papers/1803.07977/Higgs_twojet_VBF/twojet_VBF.main.tex', '../data/papers/1803.07977/MC_WWbb/wwbb_macros.tex', '../data/papers/1803.07977/MC_WWbb/WWbb.main.tex', '../data/papers/1803.07977/SM_loopnumerical/loopnumerical.main.tex', '../data/papers/1803.07977/Higgs_STXS/STXS.main.tex', '../data/papers/1803.07977/SM_ew_comparison/ew_comparison.setup.tex', '../data/papers/1803.07977/SM_ew_comparison/ew_comparison.MadGraphaMCNLO.tex', '../data/papers/1803.07977/SM_ew_comparison/ew_comparison.introduction.tex', '../data/papers/1803.07977/SM_ew_comparison/ew_comparison.comparison.tex', '../data/papers/1803.07977/SM_ew_comparison/ew_comparison.MoCaNLO.tex', '../data/papers/1803.07977/SM_ew_comparison/ew_comparison.BBMC.tex', '../data/papers/1803.07977/SM_ew_comparison/ew_comparison.conclusions.tex', '../data/papers/1803.07977/SM_ew_comparison/ew_comparison.pointwise.tex', '../data/papers/1803.07977/SM_ew_comparison/ew_comparison.integrated.tex', '../data/papers/1803.07977/SM_ew_comparison/ew_comparison.MadLoop.tex', '../data/papers/1803.07977/SM_ew_comparison/ew_comparison.Munich.tex', '../data/papers/1803.07977/SM_ew_comparison/ew_comparison.automation.tex', '../data/papers/1803.07977/SM_ew_comparison/ew_comparison.OpenLoops.tex', '../data/papers/1803.07977/SM_ew_comparison/ew_comparison.main.tex', '../data/papers/1803.07977/SM_ew_comparison/ew_comparison.differential.tex', '../data/papers/1803.07977/SM_ew_comparison/ew_comparison.Sherpa.tex', '../data/papers/1803.07977/SM_ew_comparison/ew_comparison.Recola.tex', '../data/papers/1803.07977/SM_ew_comparison/ew_comparison.NLOX.tex', '../data/papers/1803.07977/SM_ew_comparison/ew_comparison.GoSam.tex', '../data/papers/1803.07977/SM_UE/UE.main.tex', '../data/papers/1803.07977/MC_npfactors/npfactors.main.tex', '../data/papers/1803.07977/SM_nnloNtuples/nnloNtuples.main.tex', '../data/papers/1803.07977/MC_gg_vbf/gg_vbf.main.tex', '../data/papers/1803.07977/SM_nlops_ggHH/nlops_ggHH.matching.tex', '../data/papers/1803.07977/SM_nlops_ggHH/nlops_ggHH.sherpa.tex', '../data/papers/1803.07977/SM_nlops_ggHH/nlops_ggHH.main.tex', '../data/papers/1803.07977/MC_g2qqFSR/g2qqFSR.main.tex', '../data/papers/1803.07977/SM_looptreeduality/looptreeduality.main.tex', '../data/papers/1803.07977/SM_VHratio/VHratio.main.tex', '../data/papers/1803.07977/SM_jetsub_2prong/jetsub_2prong.main.tex', '../data/papers/1803.07977/SM_fastNNLO/sutton-code1.tex', '../data/papers/1803.07977/SM_fastNNLO/fastNNLO.main.tex', '../data/papers/1803.07977/SM_fastNNLO/sutton-code2.tex', '../data/papers/1803.07977/MC_vbs/vbs_macros.tex', '../data/papers/1803.07977/MC_vbs/vbs.main.tex', '../data/papers/1803.07977/MC_PS_scalevariation/PS_scalevariation.main.tex', '../data/papers/1803.07977/SM_globalPDFfits/globalPDFfits.main.tex', '../data/papers/1803.07977/MC_tunes_variations/tunes_variations.main.tex', '../data/papers/1803.07977/SM_jetsub_alphas/jetsub_alphas.main.tex', '../data/papers/1803.07977/SM_nestedSCsubtraction/nestedSCsubtraction.main.tex', '../data/papers/1803.07977/SM_wishlist/wishlist_macros.tex', '../data/papers/1803.07977/SM_wishlist/wishlist.main.tex']\n",
      "Using ../data/papers/1803.07977/SM_jetsub_2prong/jetsub_2prong.main.tex as the main .tex file\n"
     ]
    },
    {
     "name": "stderr",
     "output_type": "stream",
     "text": [
      " 65%|████████████████████████████████████▋                   | 36/55 [03:25<02:07,  6.69s/it]"
     ]
    },
    {
     "name": "stdout",
     "output_type": "stream",
     "text": [
      "Found 2 .tex files in 2105.04448\n",
      "They are: ['../data/papers/2105.04448/math_commands.tex', '../data/papers/2105.04448/iclr2021_conference.tex']\n",
      "Using ../data/papers/2105.04448/iclr2021_conference.tex as the main .tex file\n"
     ]
    },
    {
     "name": "stderr",
     "output_type": "stream",
     "text": [
      " 67%|█████████████████████████████████████▋                  | 37/55 [04:10<05:23, 17.96s/it]"
     ]
    },
    {
     "name": "stdout",
     "output_type": "stream",
     "text": [
      "Found 42 .tex files in 2203.07622\n",
      "They are: ['../data/papers/2203.07622/ILC2022report.tex', '../data/papers/2203.07622/authors/AuthorAddresses.tex', '../data/papers/2203.07622/authors/mymacros.tex', '../data/papers/2203.07622/authors/AuthorMacros.tex', '../data/papers/2203.07622/authors/Authors.tex', '../data/papers/2203.07622/chapters/gen-phys/gen-phys.tex', '../data/papers/2203.07622/chapters/gen-phys/figures/gen-phys.tex', '../data/papers/2203.07622/chapters/PEW/PEW-Wmass.tex', '../data/papers/2203.07622/chapters/PEW/PEW-WZmasses.tex', '../data/papers/2203.07622/chapters/PEW/PEW-summary.tex', '../data/papers/2203.07622/chapters/PEW/PEW-Wbfs.tex', '../data/papers/2203.07622/chapters/PEW/PEW-intro.tex', '../data/papers/2203.07622/chapters/PEW/PEW.tex', '../data/papers/2203.07622/chapters/PEW/PEW-ff.tex', '../data/papers/2203.07622/chapters/PEW/PEW-radreturn.tex', '../data/papers/2203.07622/chapters/farfuture/multi10.tex', '../data/papers/2203.07622/chapters/farfuture/farfuture.tex', '../data/papers/2203.07622/chapters/farfuture/AdvAccPlasma.tex', '../data/papers/2203.07622/chapters/farfuture/adv-SRF.tex', '../data/papers/2203.07622/chapters/farfuture/highgradientaccel.tex', '../data/papers/2203.07622/chapters/intro/intro.tex', '../data/papers/2203.07622/chapters/intro/summary-Snowmass.tex', '../data/papers/2203.07622/chapters/ILC500/ILC500-macros.tex', '../data/papers/2203.07622/chapters/ILC500/ILC500.tex', '../data/papers/2203.07622/chapters/fixedtarget/fixedtarget.tex', '../data/papers/2203.07622/chapters/bigquestions/bigquestions.tex', '../data/papers/2203.07622/chapters/bigquestions/EWSB.tex', '../data/papers/2203.07622/chapters/ILCBSM/ILCBSM.tex', '../data/papers/2203.07622/chapters/accelerator/acc-USopp.tex', '../data/papers/2203.07622/chapters/accelerator/acc-design.tex', '../data/papers/2203.07622/chapters/accelerator/acc-beyond.tex', '../data/papers/2203.07622/chapters/accelerator/acc-staging.tex', '../data/papers/2203.07622/chapters/accelerator/acc-RandD.tex', '../data/papers/2203.07622/chapters/accelerator/accelerator.tex', '../data/papers/2203.07622/chapters/ILCorg/IDT.tex', '../data/papers/2203.07622/chapters/ILC250/ILC250.tex', '../data/papers/2203.07622/chapters/case/case.tex', '../data/papers/2203.07622/chapters/detectors/detectors-macros.tex', '../data/papers/2203.07622/chapters/detectors/detectors.tex', '../data/papers/2203.07622/chapters/conclusion/conclusion.tex', '../data/papers/2203.07622/chapters/sim/sim.tex', '../data/papers/2203.07622/chapters/SMEFT/SMEFT.tex']\n",
      "Using ../data/papers/2203.07622/chapters/detectors/detectors.tex as the main .tex file\n"
     ]
    },
    {
     "name": "stderr",
     "output_type": "stream",
     "text": [
      " 69%|██████████████████████████████████████▋                 | 38/55 [04:16<04:04, 14.37s/it]"
     ]
    },
    {
     "name": "stdout",
     "output_type": "stream",
     "text": [
      "Found 5 .tex files in 2212.10659\n",
      "They are: ['../data/papers/2212.10659/main.tex', '../data/papers/2212.10659/params_table.tex', '../data/papers/2212.10659/table.tex', '../data/papers/2212.10659/latent_table.tex', '../data/papers/2212.10659/timer.tex']\n",
      "Using ../data/papers/2212.10659/main.tex as the main .tex file\n"
     ]
    },
    {
     "name": "stderr",
     "output_type": "stream",
     "text": [
      " 71%|███████████████████████████████████████▋                | 39/55 [04:19<02:57, 11.09s/it]"
     ]
    },
    {
     "name": "stdout",
     "output_type": "stream",
     "text": [
      "Found 1 .tex files in 2302.12266\n",
      "They are: ['../data/papers/2302.12266/main.tex']\n",
      "Using ../data/papers/2302.12266/main.tex as the main .tex file\n"
     ]
    },
    {
     "name": "stderr",
     "output_type": "stream",
     "text": [
      " 73%|████████████████████████████████████████▋               | 40/55 [04:25<02:21,  9.44s/it]"
     ]
    },
    {
     "name": "stdout",
     "output_type": "stream",
     "text": [
      "Found 3 .tex files in 2203.07460\n",
      "They are: ['../data/papers/2203.07460/include_shortcuts.tex', '../data/papers/2203.07460/include_settings.tex', '../data/papers/2203.07460/scipost_new.tex']\n",
      "Using ../data/papers/2203.07460/scipost_new.tex as the main .tex file\n"
     ]
    },
    {
     "name": "stderr",
     "output_type": "stream",
     "text": [
      " 75%|█████████████████████████████████████████▋              | 41/55 [04:25<01:35,  6.84s/it]"
     ]
    },
    {
     "name": "stdout",
     "output_type": "stream",
     "text": [
      "Found 3 .tex files in 2209.07559\n",
      "They are: ['../data/papers/2209.07559/main.tex', '../data/papers/2209.07559/settings-scipost.tex', '../data/papers/2209.07559/shortcuts.tex']\n",
      "Using ../data/papers/2209.07559/main.tex as the main .tex file\n"
     ]
    },
    {
     "name": "stderr",
     "output_type": "stream",
     "text": [
      " 78%|███████████████████████████████████████████▊            | 43/55 [05:28<03:26, 17.22s/it]"
     ]
    },
    {
     "name": "stdout",
     "output_type": "stream",
     "text": [
      "Found 1 .tex files in 2004.06125\n",
      "They are: ['../data/papers/2004.06125/emd_v3.tex']\n",
      "Using ../data/papers/2004.06125/emd_v3.tex as the main .tex file\n"
     ]
    },
    {
     "name": "stderr",
     "output_type": "stream",
     "text": [
      " 80%|████████████████████████████████████████████▊           | 44/55 [05:36<02:41, 14.70s/it]"
     ]
    },
    {
     "name": "stdout",
     "output_type": "stream",
     "text": [
      "Found 1 .tex files in 1712.07124\n",
      "They are: ['../data/papers/1712.07124/energyflow.tex']\n",
      "Using ../data/papers/1712.07124/energyflow.tex as the main .tex file\n"
     ]
    },
    {
     "name": "stderr",
     "output_type": "stream",
     "text": [
      " 82%|█████████████████████████████████████████████▊          | 45/55 [05:49<02:19, 13.99s/it]"
     ]
    },
    {
     "name": "stdout",
     "output_type": "stream",
     "text": [
      "Found 1 .tex files in 1810.05165\n",
      "They are: ['../data/papers/1810.05165/efns.tex']\n",
      "Using ../data/papers/1810.05165/efns.tex as the main .tex file\n"
     ]
    },
    {
     "name": "stderr",
     "output_type": "stream",
     "text": [
      " 84%|██████████████████████████████████████████████▊         | 46/55 [05:49<01:29,  9.96s/it]"
     ]
    },
    {
     "name": "stdout",
     "output_type": "stream",
     "text": [
      "Found 1 .tex files in 2007.11586\n",
      "They are: ['../data/papers/2007.11586/main.tex']\n",
      "Using ../data/papers/2007.11586/main.tex as the main .tex file\n"
     ]
    },
    {
     "name": "stderr",
     "output_type": "stream",
     "text": [
      " 85%|███████████████████████████████████████████████▊        | 47/55 [05:55<01:10,  8.80s/it]"
     ]
    },
    {
     "name": "stdout",
     "output_type": "stream",
     "text": [
      "Found 1 .tex files in 2101.08320\n",
      "They are: ['../data/papers/2101.08320/merge_rewrite.tex']\n",
      "Using ../data/papers/2101.08320/merge_rewrite.tex as the main .tex file\n"
     ]
    },
    {
     "name": "stderr",
     "output_type": "stream",
     "text": [
      " 87%|████████████████████████████████████████████████▊       | 48/55 [06:04<01:00,  8.66s/it]"
     ]
    },
    {
     "name": "stdout",
     "output_type": "stream",
     "text": [
      "Found 1 .tex files in 1805.11109\n",
      "They are: ['../data/papers/1805.11109/gtam_v3p2.tex']\n",
      "Using ../data/papers/1805.11109/gtam_v3p2.tex as the main .tex file\n"
     ]
    },
    {
     "name": "stderr",
     "output_type": "stream",
     "text": [
      " 89%|█████████████████████████████████████████████████▉      | 49/55 [06:06<00:40,  6.67s/it]"
     ]
    },
    {
     "name": "stdout",
     "output_type": "stream",
     "text": [
      "Found 1 .tex files in 1709.08705\n",
      "They are: ['../data/papers/1709.08705/trackObs.tex']\n",
      "Using ../data/papers/1709.08705/trackObs.tex as the main .tex file\n"
     ]
    },
    {
     "name": "stderr",
     "output_type": "stream",
     "text": [
      " 91%|██████████████████████████████████████████████████▉     | 50/55 [06:07<00:24,  4.97s/it]"
     ]
    },
    {
     "name": "stdout",
     "output_type": "stream",
     "text": [
      "Found 1 .tex files in 1805.11622\n",
      "They are: ['../data/papers/1805.11622/softdropisolation_v2.tex']\n",
      "Using ../data/papers/1805.11622/softdropisolation_v2.tex as the main .tex file\n"
     ]
    },
    {
     "name": "stderr",
     "output_type": "stream",
     "text": [
      " 93%|███████████████████████████████████████████████████▉    | 51/55 [06:09<00:16,  4.08s/it]"
     ]
    },
    {
     "name": "stdout",
     "output_type": "stream",
     "text": [
      "Found 1 .tex files in 1802.00008\n",
      "They are: ['../data/papers/1802.00008/jettopics.tex']\n",
      "Using ../data/papers/1802.00008/jettopics.tex as the main .tex file\n"
     ]
    },
    {
     "name": "stderr",
     "output_type": "stream",
     "text": [
      " 95%|████████████████████████████████████████████████████▉   | 52/55 [06:11<00:10,  3.56s/it]"
     ]
    },
    {
     "name": "stdout",
     "output_type": "stream",
     "text": [
      "Found 1 .tex files in 1809.01140\n",
      "They are: ['../data/papers/1809.01140/defineqg.tex']\n",
      "Using ../data/papers/1809.01140/defineqg.tex as the main .tex file\n"
     ]
    },
    {
     "name": "stderr",
     "output_type": "stream",
     "text": [
      " 96%|█████████████████████████████████████████████████████▉  | 53/55 [06:18<00:09,  4.55s/it]"
     ]
    },
    {
     "name": "stdout",
     "output_type": "stream",
     "text": [
      "Found 1 .tex files in 1804.03657\n",
      "They are: ['../data/papers/1804.03657/rsd_v2.tex']\n",
      "Using ../data/papers/1804.03657/rsd_v2.tex as the main .tex file\n"
     ]
    },
    {
     "name": "stderr",
     "output_type": "stream",
     "text": [
      " 98%|██████████████████████████████████████████████████████▉ | 54/55 [06:19<00:03,  3.49s/it]"
     ]
    },
    {
     "name": "stdout",
     "output_type": "stream",
     "text": [
      "Found 1 .tex files in 1402.2657\n",
      "They are: ['../data/papers/1402.2657/softdrop_paper.tex']\n",
      "Using ../data/papers/1402.2657/softdrop_paper.tex as the main .tex file\n"
     ]
    },
    {
     "name": "stderr",
     "output_type": "stream",
     "text": [
      "100%|████████████████████████████████████████████████████████| 55/55 [06:20<00:00,  6.92s/it]"
     ]
    },
    {
     "name": "stdout",
     "output_type": "stream",
     "text": [
      "Found 1 .tex files in 1011.2268\n",
      "They are: ['../data/papers/1011.2268/paper.tex']\n",
      "Using ../data/papers/1011.2268/paper.tex as the main .tex file\n"
     ]
    },
    {
     "name": "stderr",
     "output_type": "stream",
     "text": [
      "\n"
     ]
    }
   ],
   "source": [
    "try:\n",
    "    os.makedirs(pdf_dir)\n",
    "except FileExistsError:\n",
    "    print(f\"Directory '{pdf_dir}' already exists\")\n",
    "\n",
    "# Get papers from INSPIRE-HEP, with a year cutoff\n",
    "papers = get_inspire_hep_papers(\"Jesse.Thaler.1\",year_cutoff=2018) \n",
    "\n",
    "# Extract arXiv IDs from papers\n",
    "arxiv_ids = extract_arxiv_ids(papers) + [\"1402.2657\", \"1011.2268\"]\n",
    "\n",
    "# Download papers (sources if available, otherwise PDFs)\n",
    "[download_arxiv_source(arxiv_id, output_dir=pdf_dir) for arxiv_id in tqdm(arxiv_ids)];  "
   ]
  },
  {
   "cell_type": "code",
   "execution_count": 6,
   "id": "1ef7ddb2",
   "metadata": {},
   "outputs": [],
   "source": [
    "# Delete all files except PDFs and TeX files; load relevant files list\n",
    "delete_files_except_extensions(pdf_dir, ['.pdf', '.tex'])"
   ]
  },
  {
   "cell_type": "code",
   "execution_count": 7,
   "id": "3f0c9bae",
   "metadata": {},
   "outputs": [],
   "source": [
    "filenames = get_filenames_with_extensions(pdf_dir, ['.tex', '.pdf'])"
   ]
  },
  {
   "cell_type": "code",
   "execution_count": 8,
   "id": "0ff08afe-449a-4f4d-abbc-5444c6da6f36",
   "metadata": {},
   "outputs": [
    {
     "name": "stderr",
     "output_type": "stream",
     "text": [
      "100%|████████████████████████████████████████████████████████| 55/55 [00:14<00:00,  3.88it/s]\n"
     ]
    }
   ],
   "source": [
    "# Get text\n",
    "source_type = []\n",
    "text = []\n",
    "\n",
    "for i, file in enumerate(tqdm(filenames)):\n",
    "    try:\n",
    "        if os.path.splitext(file)[-1] == '.pdf':\n",
    "            loader = PyPDFLoader(\"{}/{}\".format(pdf_dir, file))\n",
    "            pages = loader.load_and_split()\n",
    "            text.append(''.join([page.page_content for page in pages]))\n",
    "            source_type.append(\"paper\")\n",
    "        elif os.path.splitext(file)[-1] == '.tex':\n",
    "            with open(\"{}/{}\".format(pdf_dir, file), 'r', encoding='iso-8859-1') as f:\n",
    "                text.append(remove_latex_preamble(f.read()))\n",
    "                source_type.append(\"paper\")\n",
    "    except:\n",
    "        print(\"Error with file {}\".format(file))"
   ]
  },
  {
   "cell_type": "code",
   "execution_count": 9,
   "id": "4e2cf145-2efe-47ae-b0ae-f46450ce4f86",
   "metadata": {},
   "outputs": [],
   "source": [
    "data = [source_type, text]\n",
    "\n",
    "# Transpose the data to have the inner lists as rows\n",
    "transposed_data = list(map(list, zip(*data)))\n",
    "\n",
    "# Column names for the DataFrame\n",
    "columns = ['source_type','text']\n",
    "\n",
    "# Create the DataFrame\n",
    "df = pd.DataFrame(transposed_data, columns=columns)"
   ]
  },
  {
   "cell_type": "code",
   "execution_count": 10,
   "id": "4a1adee0-cab0-40c4-b4d9-370a327de4f9",
   "metadata": {},
   "outputs": [],
   "source": [
    "# Update dataframe\n",
    "df = update_dataframe('{}/df_text.csv'.format(db_dir), df)\n",
    "df.to_csv('{}/df_text.csv'.format(db_dir), index=False)"
   ]
  },
  {
   "cell_type": "markdown",
   "id": "0f7b2865-d315-41b1-9c26-531dc2301412",
   "metadata": {},
   "source": [
    "## 2. YouTube videos"
   ]
  },
  {
   "cell_type": "code",
   "execution_count": 11,
   "id": "64be795a",
   "metadata": {},
   "outputs": [],
   "source": [
    "# from tqdm import tqdm\n",
    "# import whisper\n",
    "# import pytube\n",
    "# from pathlib import Path\n",
    "# import subprocess\n",
    "# import numpy as np"
   ]
  },
  {
   "cell_type": "code",
   "execution_count": 12,
   "id": "918b7304",
   "metadata": {},
   "outputs": [],
   "source": [
    "# videos_dir = \"../data/videos/\"\n",
    "\n",
    "# try:\n",
    "#     os.makedirs(videos_dir)\n",
    "# except FileExistsError:\n",
    "#     print(f\"Directory '{videos_dir}' already exists\")"
   ]
  },
  {
   "cell_type": "code",
   "execution_count": 13,
   "id": "bbd8e2a6",
   "metadata": {},
   "outputs": [],
   "source": [
    "# # Get whisper model; download weights if necessary\n",
    "# whisper_model = whisper.load_model(\"tiny.en\").to('cpu')\n",
    "# options = whisper.DecodingOptions(language=\"en\", without_timestamps=True)\n",
    "\n",
    "# url = \"https://www.youtube.com/watch?v=dqxdPNzBY0I\"\n",
    "# pytube_vid = pytube.YouTube(url)\n",
    "# video_path_local = Path(videos_dir).resolve() / (pytube_vid.video_id+\".mp4\")\n",
    "# pytube_vid.streams.filter(type=\"audio\", mime_type=\"audio/mp4\", abr=\"48kbps\").first().download(output_path=video_path_local.parent, filename=video_path_local.name)\n",
    "# video_path_local = video_path_local.with_suffix(\".wav\")\n",
    "# result  = subprocess.run([\"ffmpeg\", \"-i\", str(video_path_local.with_suffix(\".mp4\")), \"-vn\", \"-acodec\", \"pcm_s16le\", \"-ar\", \"16000\", \"-ac\", \"1\", str(video_path_local)])\n",
    "# transcription = whisper.transcribe(whisper_model, str(video_path_local))"
   ]
  },
  {
   "cell_type": "markdown",
   "id": "1741ca70-fb4d-4aca-ac61-49359e39aae4",
   "metadata": {},
   "source": [
    "## 3. Interviews"
   ]
  },
  {
   "cell_type": "code",
   "execution_count": 14,
   "id": "598980b4",
   "metadata": {},
   "outputs": [],
   "source": [
    "filenames = get_filenames_with_extensions(txt_dir, ['.txt'])"
   ]
  },
  {
   "cell_type": "code",
   "execution_count": 15,
   "id": "363b76c6",
   "metadata": {},
   "outputs": [
    {
     "name": "stderr",
     "output_type": "stream",
     "text": [
      "100%|████████████████████████████████████████████████████████| 7/7 [00:00<00:00, 3197.92it/s]\n"
     ]
    }
   ],
   "source": [
    "source_type = []\n",
    "text = []\n",
    "\n",
    "for i, file in enumerate(tqdm(filenames)):\n",
    "    try:\n",
    "        with open(\"{}/{}\".format(txt_dir, file), 'r') as f:\n",
    "            text.append(f.read())\n",
    "            source_type.append(\"interview\")\n",
    "    except:\n",
    "        print(\"Error with file {}\".format(file))"
   ]
  },
  {
   "cell_type": "code",
   "execution_count": 16,
   "id": "8a7e4943",
   "metadata": {},
   "outputs": [],
   "source": [
    "data = [source_type, text]\n",
    "\n",
    "# Transpose the data to have the inner lists as rows\n",
    "transposed_data = list(map(list, zip(*data)))\n",
    "\n",
    "# Column names for the DataFrame\n",
    "columns = ['source_type','text']\n",
    "\n",
    "# Create the DataFrame\n",
    "df = pd.DataFrame(transposed_data, columns=columns)\n",
    "\n",
    "# Update dataframe\n",
    "df = update_dataframe('{}/df_text.csv'.format(db_dir), df)\n",
    "df.to_csv('{}/df_text.csv'.format(db_dir), index=False)"
   ]
  },
  {
   "cell_type": "markdown",
   "id": "fb533fd8-f08d-4c00-8d35-d1b28da4552d",
   "metadata": {},
   "source": [
    "## 4. Website/CV"
   ]
  },
  {
   "cell_type": "code",
   "execution_count": 17,
   "id": "047261b5-9d87-493c-941f-2c84237f4339",
   "metadata": {},
   "outputs": [
    {
     "name": "stderr",
     "output_type": "stream",
     "text": [
      "100%|██████████████████████████████████████████████████████████| 6/6 [00:01<00:00,  3.22it/s]\n"
     ]
    }
   ],
   "source": [
    "websites = [\"https://jthaler.net/group\", \"https://jthaler.net/research\", \"https://jthaler.net/engagement\", \"https://jthaler.net/faq\", \"https://jthaler.net/cv\", \"https://jthaler.net/contact\"]\n",
    "text_website = [scrape_website_text(website) for website in tqdm(websites)]\n",
    "text_website = [\", \".join(filter(None, text.replace(\"\\n\", \",\").split(\",\"))) for text in text_website]"
   ]
  },
  {
   "cell_type": "code",
   "execution_count": 19,
   "id": "f1e04d17-904e-4536-bfe4-6fd02859c804",
   "metadata": {},
   "outputs": [],
   "source": [
    "data = [len(text_website) * [\"website\"], text_website]\n",
    "\n",
    "# Transpose the data to have the inner lists as rows\n",
    "transposed_data = list(map(list, zip(*data)))\n",
    "\n",
    "# Column names for the DataFrame\n",
    "columns = ['source_type','text']\n",
    "\n",
    "# Create the DataFrame\n",
    "df = pd.DataFrame(transposed_data, columns=columns)\n",
    "\n",
    "# Update dataframe\n",
    "df = update_dataframe('{}/df_text.csv'.format(db_dir), df)\n",
    "df.to_csv('{}/df_text.csv'.format(db_dir), index=False)"
   ]
  },
  {
   "cell_type": "code",
   "execution_count": 20,
   "id": "e8d0c69b",
   "metadata": {},
   "outputs": [
    {
     "data": {
      "text/plain": [
       "68"
      ]
     },
     "execution_count": 20,
     "metadata": {},
     "output_type": "execute_result"
    }
   ],
   "source": [
    "len(df)  # Number of context objects (papers, sites, etc)"
   ]
  },
  {
   "cell_type": "code",
   "execution_count": null,
   "id": "c01684e7",
   "metadata": {},
   "outputs": [],
   "source": []
  }
 ],
 "metadata": {
  "kernelspec": {
   "display_name": "Python 3 (ipykernel)",
   "language": "python",
   "name": "python3"
  },
  "language_info": {
   "codemirror_mode": {
    "name": "ipython",
    "version": 3
   },
   "file_extension": ".py",
   "mimetype": "text/x-python",
   "name": "python",
   "nbconvert_exporter": "python",
   "pygments_lexer": "ipython3",
   "version": "3.9.13"
  }
 },
 "nbformat": 4,
 "nbformat_minor": 5
}
