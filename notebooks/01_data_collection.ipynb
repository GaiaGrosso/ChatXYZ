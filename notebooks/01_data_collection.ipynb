{
 "cells": [
  {
   "cell_type": "code",
   "execution_count": 1,
   "id": "3513cde2-29d4-4688-b29d-200afbfd13d9",
   "metadata": {},
   "outputs": [],
   "source": [
    "import os\n",
    "import sys\n",
    "sys.path.append(\"../\")\n",
    "\n",
    "import pandas as pd\n",
    "from tqdm import tqdm\n",
    "\n",
    "from langchain.document_loaders import PyPDFLoader\n",
    "\n",
    "from utils.arxiv_utils import get_inspire_hep_papers, extract_arxiv_ids, download_arxiv_source, remove_latex_preamble\n",
    "from utils.db_utils import update_dataframe, delete_files_except_extensions, get_filenames_with_extensions, scrape_website_text\n",
    "\n",
    "%load_ext autoreload\n",
    "%autoreload 2"
   ]
  },
  {
   "cell_type": "code",
   "execution_count": 2,
   "id": "18f2b898",
   "metadata": {},
   "outputs": [
    {
     "name": "stdout",
     "output_type": "stream",
     "text": [
      "Directory '../data/Oppie/papers/' already exists\n",
      "Directory '../data/Oppie/db/' already exists\n",
      "Directory '../data/Oppie/interviews/' already exists\n"
     ]
    }
   ],
   "source": [
    "victim = \"Oppie\"\n",
    "victim_inspire_ID = \"J.Robert.Oppenheimer.1\"\n",
    "cutoff_year = None\n",
    "\n",
    "pdf_dir = f'../data/{victim}/papers/'  # directory to store PDFs\n",
    "db_dir = f'../data/{victim}/db/'  # directory to store database CSVs\n",
    "txt_dir = f'../data/{victim}/interviews/'  # directory to store interview transcripts\n",
    "\n",
    "try:\n",
    "    os.makedirs(pdf_dir)\n",
    "except FileExistsError:\n",
    "    print(f\"Directory '{pdf_dir}' already exists\")\n",
    "\n",
    "try:\n",
    "    os.makedirs(db_dir)\n",
    "except FileExistsError:\n",
    "    print(f\"Directory '{db_dir}' already exists\")\n",
    "\n",
    "try:\n",
    "    os.makedirs(txt_dir)\n",
    "except FileExistsError:\n",
    "    print(f\"Directory '{txt_dir}' already exists\")"
   ]
  },
  {
   "cell_type": "markdown",
   "id": "a1f44e2c-9a64-4386-a636-5ddaed26e22b",
   "metadata": {},
   "source": [
    "## 1. Papers"
   ]
  },
  {
   "cell_type": "code",
   "execution_count": 3,
   "id": "1147bcaf-6167-47ba-b12f-49c83aed50fc",
   "metadata": {},
   "outputs": [
    {
     "name": "stdout",
     "output_type": "stream",
     "text": [
      "[{'links': {'bibtex': 'https://inspirehep.net/api/literature/47479?format=bibtex', 'latex-eu': 'https://inspirehep.net/api/literature/47479?format=latex-eu', 'latex-us': 'https://inspirehep.net/api/literature/47479?format=latex-us', 'json': 'https://inspirehep.net/api/literature/47479?format=json', 'cv': 'https://inspirehep.net/api/literature/47479?format=cv', 'citations': 'https://inspirehep.net/api/literature/?q=refersto%3Arecid%3A47479'}, 'id': '47479', 'created': '2008-09-22T00:00:00+00:00', 'metadata': {'control_number': 47479}, 'updated': '2023-03-07T06:53:03.817337+00:00'}, {'links': {'bibtex': 'https://inspirehep.net/api/literature/46695?format=bibtex', 'latex-eu': 'https://inspirehep.net/api/literature/46695?format=latex-eu', 'latex-us': 'https://inspirehep.net/api/literature/46695?format=latex-us', 'json': 'https://inspirehep.net/api/literature/46695?format=json', 'cv': 'https://inspirehep.net/api/literature/46695?format=cv', 'citations': 'https://inspirehep.net/api/literature/?q=refersto%3Arecid%3A46695'}, 'id': '46695', 'created': '2008-09-11T00:00:00+00:00', 'metadata': {'control_number': 46695}, 'updated': '2023-03-06T15:57:21.174510+00:00'}, {'links': {'bibtex': 'https://inspirehep.net/api/literature/43090?format=bibtex', 'latex-eu': 'https://inspirehep.net/api/literature/43090?format=latex-eu', 'latex-us': 'https://inspirehep.net/api/literature/43090?format=latex-us', 'json': 'https://inspirehep.net/api/literature/43090?format=json', 'cv': 'https://inspirehep.net/api/literature/43090?format=cv', 'citations': 'https://inspirehep.net/api/literature/?q=refersto%3Arecid%3A43090'}, 'id': '43090', 'created': '2004-05-12T00:00:00+00:00', 'metadata': {'control_number': 43090}, 'updated': '2023-03-06T15:20:29.193012+00:00'}, {'links': {'bibtex': 'https://inspirehep.net/api/literature/1813937?format=bibtex', 'latex-eu': 'https://inspirehep.net/api/literature/1813937?format=latex-eu', 'latex-us': 'https://inspirehep.net/api/literature/1813937?format=latex-us', 'json': 'https://inspirehep.net/api/literature/1813937?format=json', 'cv': 'https://inspirehep.net/api/literature/1813937?format=cv', 'citations': 'https://inspirehep.net/api/literature/?q=refersto%3Arecid%3A1813937'}, 'id': '1813937', 'created': '2020-08-31T00:00:00+00:00', 'metadata': {'control_number': 1813937}, 'updated': '2023-03-06T15:03:27.486285+00:00'}, {'links': {'bibtex': 'https://inspirehep.net/api/literature/1281123?format=bibtex', 'latex-eu': 'https://inspirehep.net/api/literature/1281123?format=latex-eu', 'latex-us': 'https://inspirehep.net/api/literature/1281123?format=latex-us', 'json': 'https://inspirehep.net/api/literature/1281123?format=json', 'cv': 'https://inspirehep.net/api/literature/1281123?format=cv', 'citations': 'https://inspirehep.net/api/literature/?q=refersto%3Arecid%3A1281123'}, 'id': '1281123', 'created': '2014-02-13T00:00:00+00:00', 'metadata': {'control_number': 1281123}, 'updated': '2023-03-06T14:24:29.946743+00:00'}, {'links': {'bibtex': 'https://inspirehep.net/api/literature/1281168?format=bibtex', 'latex-eu': 'https://inspirehep.net/api/literature/1281168?format=latex-eu', 'latex-us': 'https://inspirehep.net/api/literature/1281168?format=latex-us', 'json': 'https://inspirehep.net/api/literature/1281168?format=json', 'cv': 'https://inspirehep.net/api/literature/1281168?format=cv', 'citations': 'https://inspirehep.net/api/literature/?q=refersto%3Arecid%3A1281168'}, 'id': '1281168', 'created': '2014-02-13T00:00:00+00:00', 'metadata': {'control_number': 1281168}, 'updated': '2023-03-10T06:24:06.831599+00:00'}, {'links': {'bibtex': 'https://inspirehep.net/api/literature/1341532?format=bibtex', 'latex-eu': 'https://inspirehep.net/api/literature/1341532?format=latex-eu', 'latex-us': 'https://inspirehep.net/api/literature/1341532?format=latex-us', 'json': 'https://inspirehep.net/api/literature/1341532?format=json', 'cv': 'https://inspirehep.net/api/literature/1341532?format=cv', 'citations': 'https://inspirehep.net/api/literature/?q=refersto%3Arecid%3A1341532'}, 'id': '1341532', 'created': '2015-01-28T00:00:00+00:00', 'metadata': {'control_number': 1341532}, 'updated': '2023-03-06T13:34:50.778919+00:00'}, {'links': {'bibtex': 'https://inspirehep.net/api/literature/48106?format=bibtex', 'latex-eu': 'https://inspirehep.net/api/literature/48106?format=latex-eu', 'latex-us': 'https://inspirehep.net/api/literature/48106?format=latex-us', 'json': 'https://inspirehep.net/api/literature/48106?format=json', 'cv': 'https://inspirehep.net/api/literature/48106?format=cv', 'citations': 'https://inspirehep.net/api/literature/?q=refersto%3Arecid%3A48106'}, 'id': '48106', 'created': '2009-01-27T00:00:00+00:00', 'metadata': {'control_number': 48106}, 'updated': '2023-08-11T21:01:50.356807+00:00'}, {'links': {'bibtex': 'https://inspirehep.net/api/literature/46698?format=bibtex', 'latex-eu': 'https://inspirehep.net/api/literature/46698?format=latex-eu', 'latex-us': 'https://inspirehep.net/api/literature/46698?format=latex-us', 'json': 'https://inspirehep.net/api/literature/46698?format=json', 'cv': 'https://inspirehep.net/api/literature/46698?format=cv', 'citations': 'https://inspirehep.net/api/literature/?q=refersto%3Arecid%3A46698'}, 'id': '46698', 'created': '2008-09-11T00:00:00+00:00', 'metadata': {'control_number': 46698}, 'updated': '2023-03-06T13:51:35.421576+00:00'}, {'links': {'bibtex': 'https://inspirehep.net/api/literature/47487?format=bibtex', 'latex-eu': 'https://inspirehep.net/api/literature/47487?format=latex-eu', 'latex-us': 'https://inspirehep.net/api/literature/47487?format=latex-us', 'json': 'https://inspirehep.net/api/literature/47487?format=json', 'cv': 'https://inspirehep.net/api/literature/47487?format=cv', 'citations': 'https://inspirehep.net/api/literature/?q=refersto%3Arecid%3A47487'}, 'id': '47487', 'created': '2008-09-22T00:00:00+00:00', 'metadata': {'control_number': 47487}, 'updated': '2023-03-10T05:58:03.849673+00:00'}, {'links': {'bibtex': 'https://inspirehep.net/api/literature/47983?format=bibtex', 'latex-eu': 'https://inspirehep.net/api/literature/47983?format=latex-eu', 'latex-us': 'https://inspirehep.net/api/literature/47983?format=latex-us', 'json': 'https://inspirehep.net/api/literature/47983?format=json', 'cv': 'https://inspirehep.net/api/literature/47983?format=cv', 'citations': 'https://inspirehep.net/api/literature/?q=refersto%3Arecid%3A47983'}, 'id': '47983', 'created': '2009-01-27T00:00:00+00:00', 'metadata': {'control_number': 47983}, 'updated': '2023-03-10T09:34:10.614605+00:00'}, {'links': {'bibtex': 'https://inspirehep.net/api/literature/1301520?format=bibtex', 'latex-eu': 'https://inspirehep.net/api/literature/1301520?format=latex-eu', 'latex-us': 'https://inspirehep.net/api/literature/1301520?format=latex-us', 'json': 'https://inspirehep.net/api/literature/1301520?format=json', 'cv': 'https://inspirehep.net/api/literature/1301520?format=cv', 'citations': 'https://inspirehep.net/api/literature/?q=refersto%3Arecid%3A1301520'}, 'id': '1301520', 'created': '2014-06-20T00:00:00+00:00', 'metadata': {'control_number': 1301520}, 'updated': '2023-03-06T14:40:42.345213+00:00'}, {'links': {'bibtex': 'https://inspirehep.net/api/literature/1281177?format=bibtex', 'latex-eu': 'https://inspirehep.net/api/literature/1281177?format=latex-eu', 'latex-us': 'https://inspirehep.net/api/literature/1281177?format=latex-us', 'json': 'https://inspirehep.net/api/literature/1281177?format=json', 'cv': 'https://inspirehep.net/api/literature/1281177?format=cv', 'citations': 'https://inspirehep.net/api/literature/?q=refersto%3Arecid%3A1281177'}, 'id': '1281177', 'created': '2014-02-13T00:00:00+00:00', 'metadata': {'control_number': 1281177}, 'updated': '2023-03-06T15:03:05.313737+00:00'}, {'links': {'bibtex': 'https://inspirehep.net/api/literature/1281170?format=bibtex', 'latex-eu': 'https://inspirehep.net/api/literature/1281170?format=latex-eu', 'latex-us': 'https://inspirehep.net/api/literature/1281170?format=latex-us', 'json': 'https://inspirehep.net/api/literature/1281170?format=json', 'cv': 'https://inspirehep.net/api/literature/1281170?format=cv', 'citations': 'https://inspirehep.net/api/literature/?q=refersto%3Arecid%3A1281170'}, 'id': '1281170', 'created': '2014-02-13T00:00:00+00:00', 'metadata': {'control_number': 1281170}, 'updated': '2023-03-06T14:11:10.525142+00:00'}, {'links': {'bibtex': 'https://inspirehep.net/api/literature/1280823?format=bibtex', 'latex-eu': 'https://inspirehep.net/api/literature/1280823?format=latex-eu', 'latex-us': 'https://inspirehep.net/api/literature/1280823?format=latex-us', 'json': 'https://inspirehep.net/api/literature/1280823?format=json', 'cv': 'https://inspirehep.net/api/literature/1280823?format=cv', 'citations': 'https://inspirehep.net/api/literature/?q=refersto%3Arecid%3A1280823'}, 'id': '1280823', 'created': '2014-02-11T00:00:00+00:00', 'metadata': {'control_number': 1280823}, 'updated': '2023-03-06T15:08:18.651222+00:00'}, {'links': {'bibtex': 'https://inspirehep.net/api/literature/1281157?format=bibtex', 'latex-eu': 'https://inspirehep.net/api/literature/1281157?format=latex-eu', 'latex-us': 'https://inspirehep.net/api/literature/1281157?format=latex-us', 'json': 'https://inspirehep.net/api/literature/1281157?format=json', 'cv': 'https://inspirehep.net/api/literature/1281157?format=cv', 'citations': 'https://inspirehep.net/api/literature/?q=refersto%3Arecid%3A1281157'}, 'id': '1281157', 'created': '2014-02-13T00:00:00+00:00', 'metadata': {'control_number': 1281157}, 'updated': '2023-03-06T14:40:30.645160+00:00'}, {'links': {'bibtex': 'https://inspirehep.net/api/literature/44785?format=bibtex', 'latex-eu': 'https://inspirehep.net/api/literature/44785?format=latex-eu', 'latex-us': 'https://inspirehep.net/api/literature/44785?format=latex-us', 'json': 'https://inspirehep.net/api/literature/44785?format=json', 'cv': 'https://inspirehep.net/api/literature/44785?format=cv', 'citations': 'https://inspirehep.net/api/literature/?q=refersto%3Arecid%3A44785'}, 'id': '44785', 'created': '2006-09-03T00:00:00+00:00', 'metadata': {'control_number': 44785}, 'updated': '2023-03-06T13:37:53.872869+00:00'}, {'links': {'bibtex': 'https://inspirehep.net/api/literature/47481?format=bibtex', 'latex-eu': 'https://inspirehep.net/api/literature/47481?format=latex-eu', 'latex-us': 'https://inspirehep.net/api/literature/47481?format=latex-us', 'json': 'https://inspirehep.net/api/literature/47481?format=json', 'cv': 'https://inspirehep.net/api/literature/47481?format=cv', 'citations': 'https://inspirehep.net/api/literature/?q=refersto%3Arecid%3A47481'}, 'id': '47481', 'created': '2008-09-22T00:00:00+00:00', 'metadata': {'control_number': 47481}, 'updated': '2023-03-07T00:33:42.540187+00:00'}, {'links': {'bibtex': 'https://inspirehep.net/api/literature/3898?format=bibtex', 'latex-eu': 'https://inspirehep.net/api/literature/3898?format=latex-eu', 'latex-us': 'https://inspirehep.net/api/literature/3898?format=latex-us', 'json': 'https://inspirehep.net/api/literature/3898?format=json', 'cv': 'https://inspirehep.net/api/literature/3898?format=cv', 'citations': 'https://inspirehep.net/api/literature/?q=refersto%3Arecid%3A3898'}, 'id': '3898', 'created': '1999-04-19T00:00:00+00:00', 'metadata': {'control_number': 3898}, 'updated': '2023-08-23T15:30:41.181491+00:00'}, {'links': {'bibtex': 'https://inspirehep.net/api/literature/46935?format=bibtex', 'latex-eu': 'https://inspirehep.net/api/literature/46935?format=latex-eu', 'latex-us': 'https://inspirehep.net/api/literature/46935?format=latex-us', 'json': 'https://inspirehep.net/api/literature/46935?format=json', 'cv': 'https://inspirehep.net/api/literature/46935?format=cv', 'citations': 'https://inspirehep.net/api/literature/?q=refersto%3Arecid%3A46935'}, 'id': '46935', 'created': '2008-09-11T00:00:00+00:00', 'metadata': {'control_number': 46935}, 'updated': '2023-03-07T01:17:38.439945+00:00'}, {'links': {'bibtex': 'https://inspirehep.net/api/literature/47624?format=bibtex', 'latex-eu': 'https://inspirehep.net/api/literature/47624?format=latex-eu', 'latex-us': 'https://inspirehep.net/api/literature/47624?format=latex-us', 'json': 'https://inspirehep.net/api/literature/47624?format=json', 'cv': 'https://inspirehep.net/api/literature/47624?format=cv', 'citations': 'https://inspirehep.net/api/literature/?q=refersto%3Arecid%3A47624'}, 'id': '47624', 'created': '2008-09-29T00:00:00+00:00', 'metadata': {'control_number': 47624}, 'updated': '2023-03-06T14:49:12.301017+00:00'}, {'links': {'bibtex': 'https://inspirehep.net/api/literature/1281116?format=bibtex', 'latex-eu': 'https://inspirehep.net/api/literature/1281116?format=latex-eu', 'latex-us': 'https://inspirehep.net/api/literature/1281116?format=latex-us', 'json': 'https://inspirehep.net/api/literature/1281116?format=json', 'cv': 'https://inspirehep.net/api/literature/1281116?format=cv', 'citations': 'https://inspirehep.net/api/literature/?q=refersto%3Arecid%3A1281116'}, 'id': '1281116', 'created': '2014-02-13T00:00:00+00:00', 'metadata': {'control_number': 1281116}, 'updated': '2023-03-27T15:49:33.142654+00:00'}, {'links': {'bibtex': 'https://inspirehep.net/api/literature/47798?format=bibtex', 'latex-eu': 'https://inspirehep.net/api/literature/47798?format=latex-eu', 'latex-us': 'https://inspirehep.net/api/literature/47798?format=latex-us', 'json': 'https://inspirehep.net/api/literature/47798?format=json', 'cv': 'https://inspirehep.net/api/literature/47798?format=cv', 'citations': 'https://inspirehep.net/api/literature/?q=refersto%3Arecid%3A47798'}, 'id': '47798', 'created': '2008-10-01T00:00:00+00:00', 'metadata': {'control_number': 47798}, 'updated': '2023-03-06T13:47:09.130294+00:00'}, {'links': {'bibtex': 'https://inspirehep.net/api/literature/3546?format=bibtex', 'latex-eu': 'https://inspirehep.net/api/literature/3546?format=latex-eu', 'latex-us': 'https://inspirehep.net/api/literature/3546?format=latex-us', 'json': 'https://inspirehep.net/api/literature/3546?format=json', 'cv': 'https://inspirehep.net/api/literature/3546?format=cv', 'citations': 'https://inspirehep.net/api/literature/?q=refersto%3Arecid%3A3546'}, 'id': '3546', 'created': '1998-10-21T00:00:00+00:00', 'metadata': {'control_number': 3546}, 'updated': '2023-08-01T14:43:24.869046+00:00'}, {'links': {'bibtex': 'https://inspirehep.net/api/literature/47601?format=bibtex', 'latex-eu': 'https://inspirehep.net/api/literature/47601?format=latex-eu', 'latex-us': 'https://inspirehep.net/api/literature/47601?format=latex-us', 'json': 'https://inspirehep.net/api/literature/47601?format=json', 'cv': 'https://inspirehep.net/api/literature/47601?format=cv', 'citations': 'https://inspirehep.net/api/literature/?q=refersto%3Arecid%3A47601'}, 'id': '47601', 'created': '2008-09-29T00:00:00+00:00', 'metadata': {'control_number': 47601}, 'updated': '2023-03-09T23:56:09.830223+00:00'}, {'links': {'bibtex': 'https://inspirehep.net/api/literature/2146571?format=bibtex', 'latex-eu': 'https://inspirehep.net/api/literature/2146571?format=latex-eu', 'latex-us': 'https://inspirehep.net/api/literature/2146571?format=latex-us', 'json': 'https://inspirehep.net/api/literature/2146571?format=json', 'cv': 'https://inspirehep.net/api/literature/2146571?format=cv', 'citations': 'https://inspirehep.net/api/literature/?q=refersto%3Arecid%3A2146571'}, 'id': '2146571', 'created': '2022-09-05T07:36:00.519027+00:00', 'metadata': {'control_number': 2146571}, 'updated': '2023-03-09T19:09:39.406852+00:00'}, {'links': {'bibtex': 'https://inspirehep.net/api/literature/1281132?format=bibtex', 'latex-eu': 'https://inspirehep.net/api/literature/1281132?format=latex-eu', 'latex-us': 'https://inspirehep.net/api/literature/1281132?format=latex-us', 'json': 'https://inspirehep.net/api/literature/1281132?format=json', 'cv': 'https://inspirehep.net/api/literature/1281132?format=cv', 'citations': 'https://inspirehep.net/api/literature/?q=refersto%3Arecid%3A1281132'}, 'id': '1281132', 'created': '2014-02-13T00:00:00+00:00', 'metadata': {'control_number': 1281132}, 'updated': '2023-03-06T14:37:20.280041+00:00'}, {'links': {'bibtex': 'https://inspirehep.net/api/literature/1281096?format=bibtex', 'latex-eu': 'https://inspirehep.net/api/literature/1281096?format=latex-eu', 'latex-us': 'https://inspirehep.net/api/literature/1281096?format=latex-us', 'json': 'https://inspirehep.net/api/literature/1281096?format=json', 'cv': 'https://inspirehep.net/api/literature/1281096?format=cv', 'citations': 'https://inspirehep.net/api/literature/?q=refersto%3Arecid%3A1281096'}, 'id': '1281096', 'created': '2014-02-13T00:00:00+00:00', 'metadata': {'control_number': 1281096}, 'updated': '2023-03-06T13:39:18.671709+00:00'}, {'links': {'bibtex': 'https://inspirehep.net/api/literature/1317296?format=bibtex', 'latex-eu': 'https://inspirehep.net/api/literature/1317296?format=latex-eu', 'latex-us': 'https://inspirehep.net/api/literature/1317296?format=latex-us', 'json': 'https://inspirehep.net/api/literature/1317296?format=json', 'cv': 'https://inspirehep.net/api/literature/1317296?format=cv', 'citations': 'https://inspirehep.net/api/literature/?q=refersto%3Arecid%3A1317296'}, 'id': '1317296', 'created': '2014-09-17T00:00:00+00:00', 'metadata': {'control_number': 1317296}, 'updated': '2023-03-06T15:18:19.320575+00:00'}]\n"
     ]
    },
    {
     "name": "stderr",
     "output_type": "stream",
     "text": [
      "0it [00:00, ?it/s]\n"
     ]
    }
   ],
   "source": [
    "\n",
    "\n",
    "\n",
    "# Get papers from INSPIRE-HEP, with a year cutoff\n",
    "papers = get_inspire_hep_papers(victim_inspire_ID,year_cutoff= 1930) \n",
    "print(papers)\n",
    "\n",
    "# Extract arXiv IDs from papers\n",
    "arxiv_ids = extract_arxiv_ids(papers) \n",
    "\n",
    "# Download papers (sources if available, otherwise PDFs)\n",
    "[download_arxiv_source(arxiv_id, output_dir=pdf_dir) for arxiv_id in tqdm(arxiv_ids)];  "
   ]
  },
  {
   "cell_type": "code",
   "execution_count": 4,
   "id": "1ef7ddb2",
   "metadata": {},
   "outputs": [],
   "source": [
    "# Delete all files except PDFs and TeX files; load relevant files list\n",
    "delete_files_except_extensions(pdf_dir, ['.pdf', '.tex'])"
   ]
  },
  {
   "cell_type": "code",
   "execution_count": 5,
   "id": "3f0c9bae",
   "metadata": {},
   "outputs": [],
   "source": [
    "filenames = get_filenames_with_extensions(pdf_dir, ['.tex', '.pdf'])"
   ]
  },
  {
   "cell_type": "code",
   "execution_count": 6,
   "id": "0ff08afe-449a-4f4d-abbc-5444c6da6f36",
   "metadata": {},
   "outputs": [
    {
     "name": "stderr",
     "output_type": "stream",
     "text": [
      "  0%|          | 0/3 [00:00<?, ?it/s]"
     ]
    },
    {
     "name": "stderr",
     "output_type": "stream",
     "text": [
      "100%|██████████| 3/3 [00:01<00:00,  2.23it/s]\n"
     ]
    }
   ],
   "source": [
    "# Get text\n",
    "source_type = []\n",
    "text = []\n",
    "\n",
    "for i, file in enumerate(tqdm(filenames)):\n",
    "    try:\n",
    "        if os.path.splitext(file)[-1] == '.pdf':\n",
    "            loader = PyPDFLoader(\"{}/{}\".format(pdf_dir, file))\n",
    "            pages = loader.load_and_split()\n",
    "            text.append(''.join([page.page_content for page in pages]))\n",
    "            source_type.append(\"paper\")\n",
    "        elif os.path.splitext(file)[-1] == '.tex':\n",
    "            with open(\"{}/{}\".format(pdf_dir, file), 'r', encoding='iso-8859-1') as f:\n",
    "                text.append(remove_latex_preamble(f.read()))\n",
    "                source_type.append(\"paper\")\n",
    "    except:\n",
    "        print(\"Error with file {}\".format(file))"
   ]
  },
  {
   "cell_type": "code",
   "execution_count": 7,
   "id": "4e2cf145-2efe-47ae-b0ae-f46450ce4f86",
   "metadata": {},
   "outputs": [],
   "source": [
    "data = [source_type, text]\n",
    "\n",
    "# Transpose the data to have the inner lists as rows\n",
    "transposed_data = list(map(list, zip(*data)))\n",
    "\n",
    "# Column names for the DataFrame\n",
    "columns = ['source_type','text']\n",
    "\n",
    "# Create the DataFrame\n",
    "df = pd.DataFrame(transposed_data, columns=columns)"
   ]
  },
  {
   "cell_type": "code",
   "execution_count": 8,
   "id": "4a1adee0-cab0-40c4-b4d9-370a327de4f9",
   "metadata": {},
   "outputs": [],
   "source": [
    "# Update dataframe\n",
    "df = update_dataframe('{}/df_text.csv'.format(db_dir), df)\n",
    "df.to_csv('{}/df_text.csv'.format(db_dir), index=False)"
   ]
  },
  {
   "cell_type": "markdown",
   "id": "0f7b2865-d315-41b1-9c26-531dc2301412",
   "metadata": {},
   "source": [
    "## 2. YouTube videos"
   ]
  },
  {
   "cell_type": "code",
   "execution_count": 9,
   "id": "64be795a",
   "metadata": {},
   "outputs": [],
   "source": [
    "# from tqdm import tqdm\n",
    "# import whisper\n",
    "# import pytube\n",
    "# from pathlib import Path\n",
    "# import subprocess\n",
    "# import numpy as np"
   ]
  },
  {
   "cell_type": "code",
   "execution_count": 10,
   "id": "918b7304",
   "metadata": {},
   "outputs": [],
   "source": [
    "# videos_dir = \"../data/videos/\"\n",
    "\n",
    "# try:\n",
    "#     os.makedirs(videos_dir)\n",
    "# except FileExistsError:\n",
    "#     print(f\"Directory '{videos_dir}' already exists\")"
   ]
  },
  {
   "cell_type": "code",
   "execution_count": 11,
   "id": "bbd8e2a6",
   "metadata": {},
   "outputs": [],
   "source": [
    "# # Get whisper model; download weights if necessary\n",
    "# whisper_model = whisper.load_model(\"tiny.en\").to('cpu')\n",
    "# options = whisper.DecodingOptions(language=\"en\", without_timestamps=True)\n",
    "\n",
    "# url = \"https://www.youtube.com/watch?v=dqxdPNzBY0I\"\n",
    "# pytube_vid = pytube.YouTube(url)\n",
    "# video_path_local = Path(videos_dir).resolve() / (pytube_vid.video_id+\".mp4\")\n",
    "# pytube_vid.streams.filter(type=\"audio\", mime_type=\"audio/mp4\", abr=\"48kbps\").first().download(output_path=video_path_local.parent, filename=video_path_local.name)\n",
    "# video_path_local = video_path_local.with_suffix(\".wav\")\n",
    "# result  = subprocess.run([\"ffmpeg\", \"-i\", str(video_path_local.with_suffix(\".mp4\")), \"-vn\", \"-acodec\", \"pcm_s16le\", \"-ar\", \"16000\", \"-ac\", \"1\", str(video_path_local)])\n",
    "# transcription = whisper.transcribe(whisper_model, str(video_path_local))"
   ]
  },
  {
   "cell_type": "markdown",
   "id": "1741ca70-fb4d-4aca-ac61-49359e39aae4",
   "metadata": {},
   "source": [
    "## 3. Interviews"
   ]
  },
  {
   "cell_type": "code",
   "execution_count": 12,
   "id": "598980b4",
   "metadata": {},
   "outputs": [],
   "source": [
    "filenames = get_filenames_with_extensions(txt_dir, ['.txt'])"
   ]
  },
  {
   "cell_type": "code",
   "execution_count": 13,
   "id": "363b76c6",
   "metadata": {},
   "outputs": [
    {
     "name": "stderr",
     "output_type": "stream",
     "text": [
      "0it [00:00, ?it/s]\n"
     ]
    }
   ],
   "source": [
    "source_type = []\n",
    "text = []\n",
    "\n",
    "for i, file in enumerate(tqdm(filenames)):\n",
    "    try:\n",
    "        with open(\"{}/{}\".format(txt_dir, file), 'r') as f:\n",
    "            text.append(f.read())\n",
    "            source_type.append(\"interview\")\n",
    "    except:\n",
    "        print(\"Error with file {}\".format(file))"
   ]
  },
  {
   "cell_type": "code",
   "execution_count": 14,
   "id": "8a7e4943",
   "metadata": {},
   "outputs": [],
   "source": [
    "data = [source_type, text]\n",
    "\n",
    "# Transpose the data to have the inner lists as rows\n",
    "transposed_data = list(map(list, zip(*data)))\n",
    "\n",
    "# Column names for the DataFrame\n",
    "columns = ['source_type','text']\n",
    "\n",
    "# Create the DataFrame\n",
    "df = pd.DataFrame(transposed_data, columns=columns)\n",
    "\n",
    "# Update dataframe\n",
    "df = update_dataframe('{}/df_text.csv'.format(db_dir), df)\n",
    "df.to_csv('{}/df_text.csv'.format(db_dir), index=False)"
   ]
  },
  {
   "cell_type": "markdown",
   "id": "fb533fd8-f08d-4c00-8d35-d1b28da4552d",
   "metadata": {},
   "source": [
    "## 4. Website/CV"
   ]
  },
  {
   "cell_type": "code",
   "execution_count": 15,
   "id": "047261b5-9d87-493c-941f-2c84237f4339",
   "metadata": {},
   "outputs": [
    {
     "name": "stderr",
     "output_type": "stream",
     "text": [
      "  0%|          | 0/7 [00:00<?, ?it/s]"
     ]
    },
    {
     "name": "stderr",
     "output_type": "stream",
     "text": [
      "100%|██████████| 7/7 [00:01<00:00,  4.01it/s]\n"
     ]
    }
   ],
   "source": [
    "websites = [\"https://en.wikipedia.org/wiki/J._Robert_Oppenheimer\", \n",
    "            \"https://en.wikipedia.org/wiki/Manhattan_Project\", \n",
    "            \"https://en.wikipedia.org/wiki/Oppenheimer_security_hearing\", \n",
    "            \"https://en.wikipedia.org/wiki/American_Prometheus\", \n",
    "            \"https://www.ias.edu/oppenheimer-legacy\", \n",
    "            \"https://www.goodreads.com/author/quotes/308544.J_Robert_Oppenheimer\",\n",
    "            \"https://en.wikipedia.org/wiki/Oppenheimer_(film)\"]\n",
    "text_website = [scrape_website_text(website) for website in tqdm(websites)]\n",
    "text_website = [\", \".join(filter(None, text.replace(\"\\n\", \",\").split(\",\"))) for text in text_website]"
   ]
  },
  {
   "cell_type": "code",
   "execution_count": 16,
   "id": "f1e04d17-904e-4536-bfe4-6fd02859c804",
   "metadata": {},
   "outputs": [],
   "source": [
    "data = [len(text_website) * [\"website\"], text_website]\n",
    "\n",
    "# Transpose the data to have the inner lists as rows\n",
    "transposed_data = list(map(list, zip(*data)))\n",
    "\n",
    "# Column names for the DataFrame\n",
    "columns = ['source_type','text']\n",
    "\n",
    "# Create the DataFrame\n",
    "df = pd.DataFrame(transposed_data, columns=columns)\n",
    "\n",
    "# Update dataframe\n",
    "df = update_dataframe('{}/df_text.csv'.format(db_dir), df)\n",
    "df.to_csv('{}/df_text.csv'.format(db_dir), index=False)"
   ]
  },
  {
   "cell_type": "code",
   "execution_count": 17,
   "id": "e8d0c69b",
   "metadata": {},
   "outputs": [
    {
     "name": "stdout",
     "output_type": "stream",
     "text": [
      "   source_type                                               text\n",
      "0        paper  (Wednesday Moraine: Ele mentary Particles; J.R...\n",
      "1      website  J. Robert Oppenheimer - Wikipedia, Jump to con...\n",
      "2      website  Manhattan Project - Wikipedia, Jump to content...\n",
      "3      website  Oppenheimer security hearing - Wikipedia, Jump...\n",
      "4      website  American Prometheus - Wikipedia, Jump to conte...\n",
      "5      website  J. Robert Oppenheimer: Life,  Work,  and Legac...\n",
      "6      website  J. Robert Oppenheimer Quotes  (Author of The O...\n",
      "7        paper  Mev  and experimentally it was found to be 37 ...\n",
      "8        paper  (Tuesday Afternoon: Theoretical Session , J. S...\n",
      "9      website  J. Robert Oppenheimer - Wikipedia, Jump to con...\n",
      "10     website  Manhattan Project - Wikipedia, Jump to content...\n",
      "11     website  Oppenheimer security hearing - Wikipedia, Jump...\n",
      "12     website  American Prometheus - Wikipedia, Jump to conte...\n",
      "13     website  J. Robert Oppenheimer: Life,  Work,  and Legac...\n",
      "14     website  J. Robert Oppenheimer Quotes  (Author of The O...\n",
      "15     website  Oppenheimer (film) - Wikipedia, Jump to conten...\n"
     ]
    }
   ],
   "source": [
    "len(df)  # Number of context objects (papers, sites, etc)\n",
    "print(df)"
   ]
  },
  {
   "cell_type": "code",
   "execution_count": null,
   "id": "c01684e7",
   "metadata": {},
   "outputs": [],
   "source": []
  }
 ],
 "metadata": {
  "kernelspec": {
   "display_name": "Python 3 (ipykernel)",
   "language": "python",
   "name": "python3"
  },
  "language_info": {
   "codemirror_mode": {
    "name": "ipython",
    "version": 3
   },
   "file_extension": ".py",
   "mimetype": "text/x-python",
   "name": "python",
   "nbconvert_exporter": "python",
   "pygments_lexer": "ipython3",
   "version": "3.8.16"
  }
 },
 "nbformat": 4,
 "nbformat_minor": 5
}
